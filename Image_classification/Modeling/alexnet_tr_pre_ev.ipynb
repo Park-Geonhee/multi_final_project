{
 "cells": [
  {
   "cell_type": "code",
   "execution_count": 1,
   "id": "617d92a5",
   "metadata": {},
   "outputs": [
    {
     "name": "stdout",
     "output_type": "stream",
     "text": [
      "[name: \"/device:CPU:0\"\n",
      "device_type: \"CPU\"\n",
      "memory_limit: 268435456\n",
      "locality {\n",
      "}\n",
      "incarnation: 10774199944210458392\n",
      ", name: \"/device:GPU:0\"\n",
      "device_type: \"GPU\"\n",
      "memory_limit: 4990763008\n",
      "locality {\n",
      "  bus_id: 1\n",
      "  links {\n",
      "  }\n",
      "}\n",
      "incarnation: 7389770700254501790\n",
      "physical_device_desc: \"device: 0, name: NVIDIA GeForce GTX 1660, pci bus id: 0000:26:00.0, compute capability: 7.5\"\n",
      "]\n"
     ]
    }
   ],
   "source": [
    "import tensorflow as tf\n",
    "\n",
    "tf.debugging.set_log_device_placement(True)\n",
    "import os\n",
    "os.environ[\"CUDA_DEVICE_ORDER\"]=\"PCI_BUS_ID\"   \n",
    "os.environ[\"CUDA_VISIBLE_DEVICES\"]=\"0\"\n",
    "gpus = tf.config.experimental.list_physical_devices('GPU')\n",
    "tf.config.experimental.set_memory_growth(gpus[0], True)\n",
    "\n",
    "from tensorflow.python.client import device_lib\n",
    "\n",
    "print(device_lib.list_local_devices())\n",
    "from tensorflow.keras.preprocessing.image import ImageDataGenerator\n",
    "from tensorflow.keras import layers, Model, Input\n",
    "from tensorflow.keras.models import Sequential\n",
    "from tensorflow.keras.layers import Dense, Activation, Dropout, Flatten, Conv2D, MaxPooling2D\n",
    "from tensorflow.keras.layers import Flatten,BatchNormalization"
   ]
  },
  {
   "cell_type": "code",
   "execution_count": 8,
   "id": "dedb5de2",
   "metadata": {},
   "outputs": [
    {
     "name": "stdout",
     "output_type": "stream",
     "text": [
      "Executing op VarHandleOp in device /job:localhost/replica:0/task:0/device:GPU:0\n",
      "Executing op VarHandleOp in device /job:localhost/replica:0/task:0/device:GPU:0\n",
      "Model: \"model_1\"\n",
      "_________________________________________________________________\n",
      "Layer (type)                 Output Shape              Param #   \n",
      "=================================================================\n",
      "INPUT (InputLayer)           [(None, 224, 224, 3)]     0         \n",
      "_________________________________________________________________\n",
      "CONV_1 (Conv2D)              (None, 54, 54, 96)        34944     \n",
      "_________________________________________________________________\n",
      "POOL_1 (MaxPooling2D)        (None, 26, 26, 96)        0         \n",
      "_________________________________________________________________\n",
      "LRN_1 (BatchNormalization)   (None, 26, 26, 96)        384       \n",
      "_________________________________________________________________\n",
      "CONV_2 (Conv2D)              (None, 26, 26, 256)       614656    \n",
      "_________________________________________________________________\n",
      "POOL_2 (MaxPooling2D)        (None, 12, 12, 256)       0         \n",
      "_________________________________________________________________\n",
      "LRN_2 (BatchNormalization)   (None, 12, 12, 256)       1024      \n",
      "_________________________________________________________________\n",
      "CONV_3 (Conv2D)              (None, 12, 12, 384)       885120    \n",
      "_________________________________________________________________\n",
      "CONV_4 (Conv2D)              (None, 12, 12, 384)       1327488   \n",
      "_________________________________________________________________\n",
      "CONV_5 (Conv2D)              (None, 12, 12, 256)       884992    \n",
      "_________________________________________________________________\n",
      "POOL_3 (MaxPooling2D)        (None, 5, 5, 256)         0         \n",
      "_________________________________________________________________\n",
      "flatten_1 (Flatten)          (None, 6400)              0         \n",
      "_________________________________________________________________\n",
      "FC_1 (Dense)                 (None, 4096)              26218496  \n",
      "_________________________________________________________________\n",
      "dropout_2 (Dropout)          (None, 4096)              0         \n",
      "_________________________________________________________________\n",
      "FC_2 (Dense)                 (None, 4096)              16781312  \n",
      "_________________________________________________________________\n",
      "dropout_3 (Dropout)          (None, 4096)              0         \n",
      "_________________________________________________________________\n",
      "OUTPUT (Dense)               (None, 4)                 16388     \n",
      "=================================================================\n",
      "Total params: 46,764,804\n",
      "Trainable params: 46,764,100\n",
      "Non-trainable params: 704\n",
      "_________________________________________________________________\n"
     ]
    }
   ],
   "source": [
    "# modeling(functional API)\n",
    "input_shape = (224, 224, 3)  # 논문에서 제시된 shape\n",
    "x = Input(shape = input_shape, name='INPUT')\n",
    "\n",
    "# CONV\n",
    "conv1 = Conv2D(filters=96, kernel_size=11, activation='relu', strides=4, name='CONV_1')(x)\n",
    "pool1 = MaxPooling2D((3,3), strides=2, name='POOL_1')(conv1)  # overlapped pooling\n",
    "# lrn1 = local_response_normalization(conv1,depth_radius=5, bias=2, alpha=0.0001, beta=0.75) \n",
    "lrn1 = BatchNormalization(name='LRN_1')(pool1)\n",
    "\n",
    "conv2 = Conv2D(filters=256, kernel_size=5, activation='relu', strides=1, padding='same', name='CONV_2')(lrn1)\n",
    "pool2 = MaxPooling2D((3,3), strides=2, name='POOL_2')(conv2)\n",
    "# lrn2 = local_response_normalization(conv2,depth_radius=5, bias=2,  alpha=0.0001, beta=0.75)\n",
    "lrn2 = BatchNormalization(name='LRN_2')(pool2)\n",
    "\n",
    "conv3 = Conv2D(filters=384, kernel_size=3, activation='relu', strides=1, padding='same', name='CONV_3')(lrn2)\n",
    "conv4 = Conv2D(filters=384, kernel_size=3, activation='relu', strides=1, padding='same', name='CONV_4')(conv3)\n",
    "conv5 = Conv2D(filters=256, kernel_size=3, activation='relu', strides=1, padding='same', name='CONV_5')(conv4)\n",
    "pool3 = MaxPooling2D((3,3), strides=2, name='POOL_3')(conv5)\n",
    "\n",
    "# FC\n",
    "f = Flatten()(pool3)\n",
    "f = Dense(4096, activation='relu', name='FC_1')(f)\n",
    "f = Dropout(0.5)(f)  # 논문 parameter 0.5 이용\n",
    "f = Dense(4096, activation='relu', name='FC_2')(f)\n",
    "f = Dropout(0.5)(f)\n",
    "out = Dense(4, activation='softmax', name='OUTPUT')(f)\n",
    "\n",
    "model = Model(inputs=x, outputs=out)\n",
    "model.summary()"
   ]
  },
  {
   "cell_type": "code",
   "execution_count": 9,
   "id": "cbe27969",
   "metadata": {},
   "outputs": [],
   "source": [
    "from tensorflow.keras.optimizers import Adam\n",
    "model.compile(loss='categorical_crossentropy',\n",
    "                     optimizer=Adam(0.0001),\n",
    "                     metrics=['accuracy'])"
   ]
  },
  {
   "cell_type": "code",
   "execution_count": 10,
   "id": "23fb5a84",
   "metadata": {},
   "outputs": [
    {
     "name": "stdout",
     "output_type": "stream",
     "text": [
      "Found 20438 images belonging to 4 classes.\n",
      "Found 3188 images belonging to 4 classes.\n"
     ]
    }
   ],
   "source": [
    "train_dir ='D:\\\\빅데이터기반지능형서비스개발\\\\07기업요구사항기반의문제해결pjt\\\\tdata\\\\train'\n",
    "test_dir = 'D:\\\\빅데이터기반지능형서비스개발\\\\07기업요구사항기반의문제해결pjt\\\\tdata\\\\validation'\n",
    "\n",
    "train_image_generator = ImageDataGenerator(rescale=1./255,shear_range=0.2,\n",
    "                                          horizontal_flip=True,\n",
    "                                           vertical_flip=True,\n",
    "                                          width_shift_range=.2,height_shift_range=.2,\n",
    "                                          fill_mode='nearest')\n",
    "val_image_generator = ImageDataGenerator(rescale=1./255)\n",
    "### augmentation : ImageDataGenerator( rescale = 1.0/255,shear_range=0.2,zoom_range=0.2)\n",
    "\n",
    "train_data_gen = train_image_generator.flow_from_directory(batch_size=32,\n",
    "                                                           directory=train_dir,\n",
    "                                                           shuffle=True,\n",
    "                                                           target_size=(224, 224),\n",
    "                                                           class_mode='categorical')\n",
    "\n",
    "val_data_gen = val_image_generator.flow_from_directory(batch_size=32,\n",
    "                                                         directory=test_dir,\n",
    "                                                         target_size=(224, 224),\n",
    "                                                         class_mode='categorical')"
   ]
  },
  {
   "cell_type": "code",
   "execution_count": 11,
   "id": "cfcd6a18",
   "metadata": {
    "scrolled": true
   },
   "outputs": [
    {
     "name": "stdout",
     "output_type": "stream",
     "text": [
      "WARNING:tensorflow:sample_weight modes were coerced from\n",
      "  ...\n",
      "    to  \n",
      "  ['...']\n",
      "Executing op TensorDataset in device /job:localhost/replica:0/task:0/device:CPU:0\n",
      "Executing op FlatMapDataset in device /job:localhost/replica:0/task:0/device:CPU:0\n",
      "Executing op ParallelMapDataset in device /job:localhost/replica:0/task:0/device:CPU:0\n",
      "Executing op PrefetchDataset in device /job:localhost/replica:0/task:0/device:CPU:0\n",
      "WARNING:tensorflow:sample_weight modes were coerced from\n",
      "  ...\n",
      "    to  \n",
      "  ['...']\n",
      "Executing op TensorDataset in device /job:localhost/replica:0/task:0/device:CPU:0\n",
      "Executing op FlatMapDataset in device /job:localhost/replica:0/task:0/device:CPU:0\n",
      "Executing op ParallelMapDataset in device /job:localhost/replica:0/task:0/device:CPU:0\n",
      "Executing op PrefetchDataset in device /job:localhost/replica:0/task:0/device:CPU:0\n",
      "Train for 639 steps, validate for 100 steps\n",
      "Epoch 1/20\n",
      "Executing op OptimizeDataset in device /job:localhost/replica:0/task:0/device:CPU:0\n",
      "Executing op ModelDataset in device /job:localhost/replica:0/task:0/device:CPU:0\n",
      "Executing op VarHandleOp in device /job:localhost/replica:0/task:0/device:GPU:0\n",
      "Executing op VarHandleOp in device /job:localhost/replica:0/task:0/device:GPU:0\n",
      "Executing op VarHandleOp in device /job:localhost/replica:0/task:0/device:GPU:0\n",
      "Executing op VarHandleOp in device /job:localhost/replica:0/task:0/device:GPU:0\n",
      "Executing op VarHandleOp in device /job:localhost/replica:0/task:0/device:GPU:0\n",
      "Executing op VarHandleOp in device /job:localhost/replica:0/task:0/device:GPU:0\n",
      "Executing op VarHandleOp in device /job:localhost/replica:0/task:0/device:GPU:0\n",
      "Executing op VarHandleOp in device /job:localhost/replica:0/task:0/device:GPU:0\n",
      "Executing op VarHandleOp in device /job:localhost/replica:0/task:0/device:GPU:0\n",
      "Executing op VarHandleOp in device /job:localhost/replica:0/task:0/device:GPU:0\n",
      "Executing op VarHandleOp in device /job:localhost/replica:0/task:0/device:GPU:0\n",
      "Executing op VarHandleOp in device /job:localhost/replica:0/task:0/device:GPU:0\n",
      "Executing op VarHandleOp in device /job:localhost/replica:0/task:0/device:GPU:0\n",
      "Executing op VarHandleOp in device /job:localhost/replica:0/task:0/device:GPU:0\n",
      "Executing op VarHandleOp in device /job:localhost/replica:0/task:0/device:GPU:0\n",
      "Executing op VarHandleOp in device /job:localhost/replica:0/task:0/device:GPU:0\n",
      "Executing op VarHandleOp in device /job:localhost/replica:0/task:0/device:GPU:0\n",
      "Executing op VarHandleOp in device /job:localhost/replica:0/task:0/device:GPU:0\n",
      "Executing op VarHandleOp in device /job:localhost/replica:0/task:0/device:GPU:0\n",
      "Executing op VarHandleOp in device /job:localhost/replica:0/task:0/device:GPU:0\n",
      "Executing op VarHandleOp in device /job:localhost/replica:0/task:0/device:GPU:0\n",
      "Executing op VarHandleOp in device /job:localhost/replica:0/task:0/device:GPU:0\n",
      "Executing op VarHandleOp in device /job:localhost/replica:0/task:0/device:GPU:0\n",
      "Executing op VarHandleOp in device /job:localhost/replica:0/task:0/device:GPU:0\n",
      "Executing op VarHandleOp in device /job:localhost/replica:0/task:0/device:GPU:0\n",
      "Executing op VarHandleOp in device /job:localhost/replica:0/task:0/device:GPU:0\n",
      "Executing op VarHandleOp in device /job:localhost/replica:0/task:0/device:GPU:0\n",
      "Executing op VarHandleOp in device /job:localhost/replica:0/task:0/device:GPU:0\n",
      "Executing op VarHandleOp in device /job:localhost/replica:0/task:0/device:GPU:0\n",
      "Executing op VarHandleOp in device /job:localhost/replica:0/task:0/device:GPU:0\n",
      "Executing op VarHandleOp in device /job:localhost/replica:0/task:0/device:GPU:0\n",
      "Executing op VarHandleOp in device /job:localhost/replica:0/task:0/device:GPU:0\n",
      "Executing op VarHandleOp in device /job:localhost/replica:0/task:0/device:GPU:0\n",
      "Executing op VarHandleOp in device /job:localhost/replica:0/task:0/device:GPU:0\n",
      "Executing op VarHandleOp in device /job:localhost/replica:0/task:0/device:GPU:0\n",
      "Executing op VarHandleOp in device /job:localhost/replica:0/task:0/device:GPU:0\n",
      "Executing op VarHandleOp in device /job:localhost/replica:0/task:0/device:GPU:0\n",
      "Executing op VarHandleOp in device /job:localhost/replica:0/task:0/device:GPU:0\n",
      "Executing op VarHandleOp in device /job:localhost/replica:0/task:0/device:GPU:0\n",
      "Executing op VarHandleOp in device /job:localhost/replica:0/task:0/device:GPU:0\n",
      "Executing op VarHandleOp in device /job:localhost/replica:0/task:0/device:GPU:0\n",
      "Executing op VarHandleOp in device /job:localhost/replica:0/task:0/device:GPU:0\n",
      "Executing op VarHandleOp in device /job:localhost/replica:0/task:0/device:GPU:0\n",
      "Executing op VarHandleOp in device /job:localhost/replica:0/task:0/device:GPU:0\n",
      "Executing op VarHandleOp in device /job:localhost/replica:0/task:0/device:GPU:0\n",
      "Executing op __inference_distributed_function_3637 in device /job:localhost/replica:0/task:0/device:GPU:0\n",
      "638/639 [============================>.] - ETA: 0s - loss: 1.0601 - accuracy: 0.5218Executing op OptimizeDataset in device /job:localhost/replica:0/task:0/device:CPU:0\n",
      "Executing op ModelDataset in device /job:localhost/replica:0/task:0/device:CPU:0\n",
      "Executing op __inference_distributed_function_5747 in device /job:localhost/replica:0/task:0/device:GPU:0\n",
      "Executing op ReadVariableOp in device /job:localhost/replica:0/task:0/device:GPU:0\n",
      "Executing op Identity in device /job:localhost/replica:0/task:0/device:GPU:0\n",
      "639/639 [==============================] - 478s 748ms/step - loss: 1.0599 - accuracy: 0.5217 - val_loss: 3.9316 - val_accuracy: 0.2676\n",
      "Epoch 2/20\n",
      "Executing op OptimizeDataset in device /job:localhost/replica:0/task:0/device:CPU:0\n",
      "Executing op ModelDataset in device /job:localhost/replica:0/task:0/device:CPU:0\n",
      "Executing op DeleteIterator in device /job:localhost/replica:0/task:0/device:CPU:0\n",
      "638/639 [============================>.] - ETA: 0s - loss: 0.9039 - accuracy: 0.6015Executing op OptimizeDataset in device /job:localhost/replica:0/task:0/device:CPU:0\n",
      "Executing op ModelDataset in device /job:localhost/replica:0/task:0/device:CPU:0\n",
      "639/639 [==============================] - 301s 471ms/step - loss: 0.9039 - accuracy: 0.6016 - val_loss: 2.8358 - val_accuracy: 0.2729\n",
      "Epoch 3/20\n",
      "Executing op OptimizeDataset in device /job:localhost/replica:0/task:0/device:CPU:0\n",
      "Executing op ModelDataset in device /job:localhost/replica:0/task:0/device:CPU:0\n",
      "638/639 [============================>.] - ETA: 0s - loss: 0.8408 - accuracy: 0.6311Executing op OptimizeDataset in device /job:localhost/replica:0/task:0/device:CPU:0\n",
      "Executing op ModelDataset in device /job:localhost/replica:0/task:0/device:CPU:0\n",
      "639/639 [==============================] - 217s 340ms/step - loss: 0.8412 - accuracy: 0.6309 - val_loss: 1.1926 - val_accuracy: 0.4994\n",
      "Epoch 4/20\n",
      "Executing op OptimizeDataset in device /job:localhost/replica:0/task:0/device:CPU:0\n",
      "Executing op ModelDataset in device /job:localhost/replica:0/task:0/device:CPU:0\n",
      "638/639 [============================>.] - ETA: 0s - loss: 0.7913 - accuracy: 0.6550Executing op OptimizeDataset in device /job:localhost/replica:0/task:0/device:CPU:0\n",
      "Executing op ModelDataset in device /job:localhost/replica:0/task:0/device:CPU:0\n",
      "639/639 [==============================] - 217s 339ms/step - loss: 0.7912 - accuracy: 0.6551 - val_loss: 1.0871 - val_accuracy: 0.5107\n",
      "Epoch 5/20\n",
      "Executing op OptimizeDataset in device /job:localhost/replica:0/task:0/device:CPU:0\n",
      "Executing op ModelDataset in device /job:localhost/replica:0/task:0/device:CPU:0\n",
      "638/639 [============================>.] - ETA: 0s - loss: 0.7729 - accuracy: 0.6647Executing op OptimizeDataset in device /job:localhost/replica:0/task:0/device:CPU:0\n",
      "Executing op ModelDataset in device /job:localhost/replica:0/task:0/device:CPU:0\n",
      "639/639 [==============================] - 216s 338ms/step - loss: 0.7730 - accuracy: 0.6646 - val_loss: 3.0349 - val_accuracy: 0.4093\n",
      "Epoch 6/20\n",
      "Executing op OptimizeDataset in device /job:localhost/replica:0/task:0/device:CPU:0\n",
      "Executing op ModelDataset in device /job:localhost/replica:0/task:0/device:CPU:0\n",
      "638/639 [============================>.] - ETA: 0s - loss: 0.7611 - accuracy: 0.6672Executing op OptimizeDataset in device /job:localhost/replica:0/task:0/device:CPU:0\n",
      "Executing op ModelDataset in device /job:localhost/replica:0/task:0/device:CPU:0\n",
      "639/639 [==============================] - 216s 339ms/step - loss: 0.7610 - accuracy: 0.6673 - val_loss: 0.7055 - val_accuracy: 0.6913\n"
     ]
    },
    {
     "name": "stdout",
     "output_type": "stream",
     "text": [
      "Epoch 7/20\n",
      "Executing op OptimizeDataset in device /job:localhost/replica:0/task:0/device:CPU:0\n",
      "Executing op ModelDataset in device /job:localhost/replica:0/task:0/device:CPU:0\n",
      "638/639 [============================>.] - ETA: 0s - loss: 0.7393 - accuracy: 0.6774Executing op OptimizeDataset in device /job:localhost/replica:0/task:0/device:CPU:0\n",
      "Executing op ModelDataset in device /job:localhost/replica:0/task:0/device:CPU:0\n",
      "639/639 [==============================] - 217s 339ms/step - loss: 0.7395 - accuracy: 0.6773 - val_loss: 1.1254 - val_accuracy: 0.5047\n",
      "Epoch 8/20\n",
      "Executing op OptimizeDataset in device /job:localhost/replica:0/task:0/device:CPU:0\n",
      "Executing op ModelDataset in device /job:localhost/replica:0/task:0/device:CPU:0\n",
      "638/639 [============================>.] - ETA: 0s - loss: 0.7224 - accuracy: 0.6845Executing op OptimizeDataset in device /job:localhost/replica:0/task:0/device:CPU:0\n",
      "Executing op ModelDataset in device /job:localhost/replica:0/task:0/device:CPU:0\n",
      "639/639 [==============================] - 215s 337ms/step - loss: 0.7225 - accuracy: 0.6844 - val_loss: 1.1636 - val_accuracy: 0.5082\n",
      "Epoch 9/20\n",
      "Executing op OptimizeDataset in device /job:localhost/replica:0/task:0/device:CPU:0\n",
      "Executing op ModelDataset in device /job:localhost/replica:0/task:0/device:CPU:0\n",
      "638/639 [============================>.] - ETA: 0s - loss: 0.7137 - accuracy: 0.6860Executing op OptimizeDataset in device /job:localhost/replica:0/task:0/device:CPU:0\n",
      "Executing op ModelDataset in device /job:localhost/replica:0/task:0/device:CPU:0\n",
      "639/639 [==============================] - 215s 336ms/step - loss: 0.7137 - accuracy: 0.6858 - val_loss: 1.7253 - val_accuracy: 0.3472\n",
      "Epoch 10/20\n",
      "Executing op OptimizeDataset in device /job:localhost/replica:0/task:0/device:CPU:0\n",
      "Executing op ModelDataset in device /job:localhost/replica:0/task:0/device:CPU:0\n",
      "638/639 [============================>.] - ETA: 0s - loss: 0.7067 - accuracy: 0.6924Executing op OptimizeDataset in device /job:localhost/replica:0/task:0/device:CPU:0\n",
      "Executing op ModelDataset in device /job:localhost/replica:0/task:0/device:CPU:0\n",
      "639/639 [==============================] - 214s 335ms/step - loss: 0.7069 - accuracy: 0.6921 - val_loss: 0.7049 - val_accuracy: 0.6945\n",
      "Epoch 11/20\n",
      "Executing op OptimizeDataset in device /job:localhost/replica:0/task:0/device:CPU:0\n",
      "Executing op ModelDataset in device /job:localhost/replica:0/task:0/device:CPU:0\n",
      "638/639 [============================>.] - ETA: 0s - loss: 0.6957 - accuracy: 0.6976Executing op OptimizeDataset in device /job:localhost/replica:0/task:0/device:CPU:0\n",
      "Executing op ModelDataset in device /job:localhost/replica:0/task:0/device:CPU:0\n",
      "639/639 [==============================] - 215s 336ms/step - loss: 0.6958 - accuracy: 0.6975 - val_loss: 2.1269 - val_accuracy: 0.3582\n",
      "Epoch 12/20\n",
      "Executing op OptimizeDataset in device /job:localhost/replica:0/task:0/device:CPU:0\n",
      "Executing op ModelDataset in device /job:localhost/replica:0/task:0/device:CPU:0\n",
      "638/639 [============================>.] - ETA: 0s - loss: 0.6844 - accuracy: 0.6964Executing op OptimizeDataset in device /job:localhost/replica:0/task:0/device:CPU:0\n",
      "Executing op ModelDataset in device /job:localhost/replica:0/task:0/device:CPU:0\n",
      "639/639 [==============================] - 216s 338ms/step - loss: 0.6844 - accuracy: 0.6962 - val_loss: 1.3624 - val_accuracy: 0.4304\n",
      "Epoch 13/20\n",
      "Executing op OptimizeDataset in device /job:localhost/replica:0/task:0/device:CPU:0\n",
      "Executing op ModelDataset in device /job:localhost/replica:0/task:0/device:CPU:0\n",
      "638/639 [============================>.] - ETA: 0s - loss: 0.6738 - accuracy: 0.7073Executing op OptimizeDataset in device /job:localhost/replica:0/task:0/device:CPU:0\n",
      "Executing op ModelDataset in device /job:localhost/replica:0/task:0/device:CPU:0\n",
      "639/639 [==============================] - 215s 336ms/step - loss: 0.6740 - accuracy: 0.7072 - val_loss: 2.7486 - val_accuracy: 0.3027\n",
      "Epoch 14/20\n",
      "Executing op OptimizeDataset in device /job:localhost/replica:0/task:0/device:CPU:0\n",
      "Executing op ModelDataset in device /job:localhost/replica:0/task:0/device:CPU:0\n",
      "638/639 [============================>.] - ETA: 0s - loss: 0.6695 - accuracy: 0.7065Executing op OptimizeDataset in device /job:localhost/replica:0/task:0/device:CPU:0\n",
      "Executing op ModelDataset in device /job:localhost/replica:0/task:0/device:CPU:0\n",
      "639/639 [==============================] - 217s 339ms/step - loss: 0.6698 - accuracy: 0.7063 - val_loss: 2.8088 - val_accuracy: 0.2971\n",
      "Epoch 15/20\n",
      "Executing op OptimizeDataset in device /job:localhost/replica:0/task:0/device:CPU:0\n",
      "Executing op ModelDataset in device /job:localhost/replica:0/task:0/device:CPU:0\n",
      "638/639 [============================>.] - ETA: 0s - loss: 0.6695 - accuracy: 0.7047Executing op OptimizeDataset in device /job:localhost/replica:0/task:0/device:CPU:0\n",
      "Executing op ModelDataset in device /job:localhost/replica:0/task:0/device:CPU:0\n",
      "Restoring model weights from the end of the best epoch.\n",
      "639/639 [==============================] - 214s 336ms/step - loss: 0.6694 - accuracy: 0.7048 - val_loss: 1.0687 - val_accuracy: 0.5295\n",
      "Epoch 00015: early stopping\n",
      "Executing op ReadVariableOp in device /job:localhost/replica:0/task:0/device:GPU:0\n",
      "Executing op Identity in device /job:localhost/replica:0/task:0/device:GPU:0\n"
     ]
    }
   ],
   "source": [
    "early_stopping = tf.keras.callbacks.EarlyStopping(\n",
    "    monitor='val_accuracy', \n",
    "    verbose=1,\n",
    "    patience=5,\n",
    "    mode='max',\n",
    "    restore_best_weights=True)\n",
    "from tensorflow.keras.models import load_model\n",
    "\n",
    "history = model.fit_generator(train_data_gen,\n",
    "                                epochs=20,callbacks=[early_stopping],\n",
    "                                validation_data=val_data_gen,\n",
    "                              shuffle=True)\n",
    "\n",
    "model.save(\"logs/new_1.h5\")"
   ]
  },
  {
   "cell_type": "code",
   "execution_count": null,
   "id": "2c8bab2b",
   "metadata": {},
   "outputs": [],
   "source": []
  },
  {
   "cell_type": "code",
   "execution_count": 13,
   "id": "68692607",
   "metadata": {},
   "outputs": [
    {
     "name": "stdout",
     "output_type": "stream",
     "text": [
      "Found 1819 images belonging to 4 classes.\n"
     ]
    }
   ],
   "source": [
    "import sklearn\n",
    "from sklearn.metrics import classification_report, confusion_matrix\n",
    "from tensorflow.keras.preprocessing.image import ImageDataGenerator\n",
    "\n",
    "test_dir = 'D:\\\\빅데이터기반지능형서비스개발\\\\07기업요구사항기반의문제해결pjt\\\\tdata\\\\test'\n",
    "\n",
    "tst_image_generator = ImageDataGenerator(rescale=1./255)\n",
    "\n",
    "tst_data_gen = tst_image_generator.flow_from_directory(batch_size=32,\n",
    "                                                         directory=test_dir,\n",
    "                                                         target_size=(224, 224),\n",
    "                                                         class_mode='categorical',\n",
    "                                                      shuffle=False)"
   ]
  },
  {
   "cell_type": "code",
   "execution_count": 28,
   "id": "28af520c",
   "metadata": {},
   "outputs": [
    {
     "name": "stdout",
     "output_type": "stream",
     "text": [
      "WARNING:tensorflow:sample_weight modes were coerced from\n",
      "  ...\n",
      "    to  \n",
      "  ['...']\n",
      "Executing op TensorDataset in device /job:localhost/replica:0/task:0/device:CPU:0\n",
      "Executing op FlatMapDataset in device /job:localhost/replica:0/task:0/device:CPU:0\n",
      "Executing op ParallelMapDataset in device /job:localhost/replica:0/task:0/device:CPU:0\n",
      "Executing op PrefetchDataset in device /job:localhost/replica:0/task:0/device:CPU:0\n",
      "Executing op OptimizeDataset in device /job:localhost/replica:0/task:0/device:CPU:0\n",
      "Executing op ModelDataset in device /job:localhost/replica:0/task:0/device:CPU:0\n"
     ]
    },
    {
     "data": {
      "text/plain": [
       "[1.1016732417047024, 0.5107422]"
      ]
     },
     "execution_count": 28,
     "metadata": {},
     "output_type": "execute_result"
    }
   ],
   "source": [
    "dd = model.evaluate_generator(tst_data_gen,32)\n",
    "dd"
   ]
  },
  {
   "cell_type": "code",
   "execution_count": 15,
   "id": "1d1deb69",
   "metadata": {},
   "outputs": [
    {
     "name": "stdout",
     "output_type": "stream",
     "text": [
      "Executing op TensorDataset in device /job:localhost/replica:0/task:0/device:CPU:0\n",
      "Executing op FlatMapDataset in device /job:localhost/replica:0/task:0/device:CPU:0\n",
      "Executing op ParallelMapDataset in device /job:localhost/replica:0/task:0/device:CPU:0\n",
      "Executing op PrefetchDataset in device /job:localhost/replica:0/task:0/device:CPU:0\n",
      "Executing op OptimizeDataset in device /job:localhost/replica:0/task:0/device:CPU:0\n",
      "Executing op ModelDataset in device /job:localhost/replica:0/task:0/device:CPU:0\n"
     ]
    },
    {
     "data": {
      "text/plain": [
       "array([[0.71052632, 0.28947368, 0.        , 0.        ],\n",
       "       [0.13744076, 0.54344392, 0.25276461, 0.06635071],\n",
       "       [0.0497449 , 0.21811224, 0.39795918, 0.33418367],\n",
       "       [0.01840491, 0.02147239, 0.21165644, 0.74846626]])"
      ]
     },
     "execution_count": 15,
     "metadata": {},
     "output_type": "execute_result"
    }
   ],
   "source": [
    "tst_data_gen.reset()\n",
    "Y_pred = model.predict_generator(tst_data_gen)#validation_generator.n // validation_generator.batch_size+1)\n",
    "import numpy as np\n",
    "\n",
    "y_pred = np.argmax(Y_pred, axis=1) \n",
    "\n",
    "cm=confusion_matrix(tst_data_gen.classes, y_pred)\n",
    "tot=np.sum(cm,axis=1)\n",
    "cm1=cm/tot[:,None]\n",
    "cm1"
   ]
  },
  {
   "cell_type": "code",
   "execution_count": 18,
   "id": "ee15907c",
   "metadata": {},
   "outputs": [],
   "source": [
    "classes=['0','1','2','3']"
   ]
  },
  {
   "cell_type": "code",
   "execution_count": 19,
   "id": "d9cc075d",
   "metadata": {},
   "outputs": [],
   "source": [
    "import seaborn as sn\n",
    "import pandas as pd\n",
    "import matplotlib.pyplot as plt\n",
    "plt.rc('font', family='Malgun Gothic')"
   ]
  },
  {
   "cell_type": "code",
   "execution_count": 22,
   "id": "eee0aae1",
   "metadata": {},
   "outputs": [
    {
     "data": {
      "text/plain": [
       "<AxesSubplot:>"
      ]
     },
     "execution_count": 22,
     "metadata": {},
     "output_type": "execute_result"
    },
    {
     "data": {
      "image/png": "[encoded data removed]",
      "text/plain": [
       "<Figure size 432x288 with 2 Axes>"
      ]
     },
     "metadata": {
      "needs_background": "light"
     },
     "output_type": "display_data"
    }
   ],
   "source": [
    "df_cm = pd.DataFrame(cm1,\n",
    "                     index = [i for i in classes],\n",
    "                  columns = [i for i in classes])\n",
    "plt.figure()\n",
    "sn.heatmap(df_cm, annot=True)"
   ]
  },
  {
   "cell_type": "code",
   "execution_count": null,
   "id": "ce7d132b",
   "metadata": {},
   "outputs": [],
   "source": []
  }
 ],
 "metadata": {
  "kernelspec": {
   "display_name": "Python 3 (ipykernel)",
   "language": "python",
   "name": "python3"
  },
  "language_info": {
   "codemirror_mode": {
    "name": "ipython",
    "version": 3
   },
   "file_extension": ".py",
   "mimetype": "text/x-python",
   "name": "python",
   "nbconvert_exporter": "python",
   "pygments_lexer": "ipython3",
   "version": "3.7.11"
  }
 },
 "nbformat": 4,
 "nbformat_minor": 5
}
