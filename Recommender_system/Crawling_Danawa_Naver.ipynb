{
 "cells": [
  {
   "cell_type": "code",
   "execution_count": 7,
   "id": "a392bd8f",
   "metadata": {},
   "outputs": [],
   "source": [
    "from selenium import webdriver\n",
    "from selenium.webdriver.chrome.service import Service\n",
    "from selenium.webdriver.chrome.options import Options\n",
    "from bs4 import BeautifulSoup\n",
    "from tqdm.notebook import tqdm\n",
    "\n",
    "import time\n",
    "import pandas as pd\n",
    "import numpy as np"
   ]
  },
  {
   "cell_type": "markdown",
   "id": "fe8affe0",
   "metadata": {},
   "source": [
    "# 1. Danawa"
   ]
  },
  {
   "cell_type": "code",
   "execution_count": 68,
   "id": "03d6f6e8",
   "metadata": {},
   "outputs": [],
   "source": [
    "# 예제 7-10 상품 정보 태그에서 원하는 정보를 추출하는 함수\n",
    "def danawa_get_prod_items(prod_items):\n",
    "    prod_data = []\n",
    "    for prod_item in prod_items:\n",
    "        if 'product-pot' in prod_item['class']:\n",
    "            continue  # 공백부분(‘li.prod_item.product-pot’) 제외하기\n",
    "        try:\n",
    "            # ① 상품명 가져오기\n",
    "            title = prod_item.select('p.prod_name > a')[0].text.strip()\n",
    "            # ② 스펙 목록 가져오기\n",
    "            spec_list = prod_item.select('div.spec_list')[0].text.strip()\n",
    "            # ③ 가격 정보 가져오기\n",
    "            price = prod_item.select('li.rank_one > p.price_sect > a > strong')[0].text.strip().replace(\",\", \"\")\n",
    "            # 상품평\n",
    "            rate = prod_item.select('div.point_num > strong')[0].text.strip()\n",
    "            # 참여수\n",
    "            opinion = prod_item.select('a.click_log_prod_content_count > strong')[0].text.strip()\n",
    "            \n",
    "            prod_data.append([title, spec_list, price, rate, opinion])\n",
    "        except:\n",
    "            pass  # 진행시 에러가 발생할 경우(광고 상품 등) 넘어가기\n",
    "    return prod_data\n",
    "\n",
    "def danawa_get_search_page_url(keyword, page):\n",
    "    return 'http://search.danawa.com/dsearch.php?query={}&volumeType=allvs&page={}&limit=30&sort=saveDESC&list=list&boost=true&addDelivery=N&tab=goods&tab=goods'.format(keyword, page)\n",
    "\n",
    "def danawa_start_crawling(keyword, total_page):\n",
    "    # setting\n",
    "    driver = webdriver.Chrome(service = Service('./chromedriver.exe'))\n",
    "    driver.implicitly_wait(3)\n",
    "\n",
    "    prod_data_total = []\n",
    "\n",
    "    for page in tqdm(range(1, total_page+1)):\n",
    "\n",
    "        # open chrome browser\n",
    "        url = danawa_get_search_page_url(keyword, page)\n",
    "        driver.get(url)\n",
    "        time.sleep(5)\n",
    "\n",
    "        # get html source of the page\n",
    "        html = driver.page_source\n",
    "        soup = BeautifulSoup(html, 'html.parser')\n",
    "\n",
    "        # get info\n",
    "        prod_items = soup.select('div.main_prodlist > ul.product_list > li.prod_item')\n",
    "        prod_item_list = danawa_get_prod_items(prod_items)\n",
    "\n",
    "        prod_data_total = prod_data_total + prod_item_list\n",
    "        \n",
    "        return prod_data_total"
   ]
  },
  {
   "cell_type": "code",
   "execution_count": 82,
   "id": "33ca4230",
   "metadata": {
    "scrolled": true
   },
   "outputs": [
    {
     "data": {
      "application/vnd.jupyter.widget-view+json": {
       "model_id": "ae7d73b083314a11b185147fbbfe95c9",
       "version_major": 2,
       "version_minor": 0
      },
      "text/plain": [
       "  0%|          | 0/10 [00:00<?, ?it/s]"
      ]
     },
     "metadata": {},
     "output_type": "display_data"
    }
   ],
   "source": [
    "prod_data_total = danawa_start_crawling('트리트먼트', 10)\n",
    "\n",
    "data = pd.DataFrame(prod_data_total)\n",
    "data.columns = ['title', 'spec_list', 'price', 'rate', 'opinion']\n",
    "data.to_excel('./treatment_danawa_10page.xlsx', index = False)"
   ]
  },
  {
   "cell_type": "markdown",
   "id": "4dd5fc8d",
   "metadata": {},
   "source": [
    "# 2. Naver"
   ]
  },
  {
   "cell_type": "code",
   "execution_count": 115,
   "id": "159ff655",
   "metadata": {},
   "outputs": [],
   "source": [
    "# 예제 7-10 상품 정보 태그에서 원하는 정보를 추출하는 함수\n",
    "def naver_get_prod_items(prod_items):\n",
    "    prod_data = []\n",
    "    for prod_item in prod_items:\n",
    "        if 'product-pot' in prod_item['class']:\n",
    "            continue  # 공백부분(‘li.prod_item.product-pot’) 제외하기\n",
    "        try:\n",
    "            # ① 상품명 가져오기\n",
    "            title = prod_item.select('a.basicList_link__1MaTN')[0].text.strip()\n",
    "            # ② 스펙 목록 가져오기\n",
    "            spec_list = [x.text.strip() for x in prod_item.select('a.basicList_detail__27Krk')]\n",
    "            # ③ 가격 정보 가져오기\n",
    "            price = prod_item.select('span.price_num__2WUXn')[0].text.strip()\n",
    "            # 상품평\n",
    "            rate = prod_item.select('span.basicList_star__3NkBn')[0].text.split(' ')[-1]\n",
    "            # 참여수\n",
    "            opinion = prod_item.select('em.basicList_num__1yXM9')[0].text\n",
    "            \n",
    "            prod_data.append([title, spec_list, price, rate, opinion])\n",
    "        except:\n",
    "            pass  # 진행시 에러가 발생할 경우(광고 상품 등) 넘어가기\n",
    "    return prod_data\n",
    "\n",
    "def naver_get_search_page_url(keyword, page):\n",
    "    return 'https://search.shopping.naver.com/search/all?frm=NVSHATC&origQuery={}&pagingIndex={}&pagingSize=40&productSet=total&query={}&sort=rel&timestamp=&viewType=list'.format(keyword, page, keyword)\n",
    "\n",
    "def naver_start_crawling(keyword, total_page):\n",
    "    # setting\n",
    "    driver = webdriver.Chrome(service = Service('./chromedriver.exe'))\n",
    "    driver.implicitly_wait(3)\n",
    "\n",
    "    prod_data_total = []\n",
    "\n",
    "    for page in tqdm(range(1, total_page+1)):\n",
    "\n",
    "        # open chrome browser\n",
    "        url = naver_get_search_page_url(keyword, page)\n",
    "        driver.get(url)\n",
    "        time.sleep(1)\n",
    "        \n",
    "        # 최하단으로 스크롤링 하여 모든 데이터 표출\n",
    "        driver.execute_script('window.scrollTo(0, document.body.scrollHeight);')\n",
    "        time.sleep(3)\n",
    "        \n",
    "        # get html source of the page\n",
    "        html = driver.page_source\n",
    "        soup = BeautifulSoup(html, 'html.parser')\n",
    "\n",
    "        # get info\n",
    "        prod_items = soup.select('li.basicList_item__2XT81')\n",
    "        prod_item_list = naver_get_prod_items(prod_items)\n",
    "\n",
    "        prod_data_total = prod_data_total + prod_item_list\n",
    "        \n",
    "    return prod_data_total"
   ]
  },
  {
   "cell_type": "code",
   "execution_count": 120,
   "id": "35f38ee8",
   "metadata": {
    "scrolled": true
   },
   "outputs": [
    {
     "data": {
      "application/vnd.jupyter.widget-view+json": {
       "model_id": "63810b0292194242b516722353994b23",
       "version_major": 2,
       "version_minor": 0
      },
      "text/plain": [
       "  0%|          | 0/10 [00:00<?, ?it/s]"
      ]
     },
     "metadata": {},
     "output_type": "display_data"
    }
   ],
   "source": [
    "prod_data_total = naver_start_crawling('샴푸', 10)\n",
    "\n",
    "data = pd.DataFrame(prod_data_total)\n",
    "data.columns = ['title', 'spec_list', 'price', 'rate', 'opinion']\n",
    "data.to_excel('./shampoo_naver_10page.xlsx', index = False)"
   ]
  },
  {
   "cell_type": "markdown",
   "id": "769cde58",
   "metadata": {},
   "source": [
    "# Coupang"
   ]
  },
  {
   "cell_type": "code",
   "execution_count": 1,
   "id": "23bb1af4",
   "metadata": {},
   "outputs": [],
   "source": [
    "def coupang_get_search_page_url(keyword, page):\n",
    "    return 'https://www.coupang.com/np/search?q={}&channel=user&component=&eventCategory=SRP&trcid=&traid=&sorter=scoreDesc&minPrice=&maxPrice=&priceRange=&filterType=&listSize=36&filter=&isPriceRange=false&brand=&offerCondition=&rating=0&page={}&rocketAll=false&searchIndexingToken=1=6&backgroundColor='.format(keyword, page)\n"
   ]
  },
  {
   "cell_type": "code",
   "execution_count": 19,
   "id": "1a33c9c4",
   "metadata": {},
   "outputs": [
    {
     "data": {
      "application/vnd.jupyter.widget-view+json": {
       "model_id": "b5d0730378b946c9a660d994e16d7ee9",
       "version_major": 2,
       "version_minor": 0
      },
      "text/plain": [
       "  0%|          | 0/1 [00:00<?, ?it/s]"
      ]
     },
     "metadata": {},
     "output_type": "display_data"
    }
   ],
   "source": [
    "# setting\n",
    "chrome_options = Options()\n",
    "chrome_options.add_argument(\"--headless\")\n",
    "chrome_options.add_argument(\"user-agent=Mozilla/5.0 (Windows NT 10.0; Win64; x64) AppleWebKit/537.36 (KHTML, like Gecko) Chrome/100.0.4896.88 Safari/537.36\")\n",
    "\n",
    "driver = webdriver.Chrome(service = Service('./chromedriver.exe'))\n",
    "driver.implicitly_wait(3)\n",
    "\n",
    "keyword = '샴푸'\n",
    "total_page = 1\n",
    "\n",
    "prod_data_total = []\n",
    "\n",
    "for page in tqdm(range(1, total_page+1)):\n",
    "\n",
    "    # open chrome browser\n",
    "    url = coupang_get_search_page_url(keyword, page)\n",
    "    driver.get(url)\n",
    "    time.sleep(3)\n",
    "\n",
    "    # get html source of the page\n",
    "    html = driver.page_source\n",
    "    soup = BeautifulSoup(html, 'html.parser')\n",
    "\n",
    "    # get info\n",
    "    prod_items = soup.select('ul#productList.search-product-list')"
   ]
  },
  {
   "cell_type": "code",
   "execution_count": 20,
   "id": "a4e9159b",
   "metadata": {},
   "outputs": [
    {
     "data": {
      "text/plain": [
       "['메디슈어 탈모 증상 완화 샴푸, 2개, 1L',\n",
       " '케라시스 러블리 앤 로맨틱 퍼퓸샴푸 꽃향, 980ml, 3개',\n",
       " '미쟝센 퍼펙트 세럼 오리지널 샴푸, 680ml, 4개',\n",
       " '쿤달 허니 앤 마카다미아 네이처 샴푸 베이비파우더향, 1058ml, 2개',\n",
       " '케라시스 러블리 앤 로맨틱 퍼퓸샴푸 꽃향, 980ml, 3개',\n",
       " '닥터포헤어 폴리젠 플러스 샴푸 500ml x 2p + 100ml, 1세트',\n",
       " '비오클라쎄 밀크바오밥 샴푸 화이트머스크향, 1000ml, 1개',\n",
       " '미쟝센 살롱 플러스 클리닉 10 샴푸 극손상모발용, 990ml, 1개',\n",
       " '려 흑운 모근강화 볼륨케어 샴푸, 550ml, 3개',\n",
       " '케라시스 데미지 클리닉 샴푸, 750ml, 3개',\n",
       " '바론 모링가 리페어링 샴푸 1000g + 헤어 트리트먼트 1000g, 1세트',\n",
       " '부케가르니 나드 샴푸 시그니처, 1000ml, 2개',\n",
       " 'TS 뉴프리미엄 TS 샴푸 500g x 2p + 100g x 2p + 6g x 5p, 1세트',\n",
       " '닥터방기원 맥주 효모 탈모증상 완화 샴푸, 1000ml, 2개',\n",
       " '닥터방기원 랩 탈모 증상 완화 샴푸, 1L, 2개',\n",
       " '제이숲 실크케라틴 단백질 샴푸, 1000g, 1개',\n",
       " '트리트룸 시그니처 대용량 퍼퓸 샴푸 화이트머스크향, 1077ml, 2개',\n",
       " '부케가르니 나드 두피 딥클렌징 샴푸, 1000ml, 1개',\n",
       " '라보에이치 프로바이오틱스 탈모 증상 완화 샴푸 두피강화, 400ml, 1개',\n",
       " 'TS 뉴프리미엄 탈모 샴푸 라벤더향, 500g, 1개',\n",
       " '닥터방기원 댄드러프 비듬케어 탈모샴푸, 1000ml, 1개',\n",
       " '려 함빛 극손상 영양케어 샴푸, 550ml, 3개',\n",
       " '케라시스 러블리 앤 로맨틱 퍼퓸샴푸 꽃향, 980ml, 3개',\n",
       " '닥터포헤어 폴리젠 샴푸, 500ml, 1개',\n",
       " '헤드앤숄더 가려운 두피 케어 샴푸, 1200ml, 1개',\n",
       " '미쟝센 퍼펙트 세럼 오리지널 샴푸, 680ml, 4개',\n",
       " '아모스 녹차실감 지성두피 프레쉬 샴푸, 500g, 2개',\n",
       " '케라시스 샤이닝 데미지 샴푸, 4L, 1개',\n",
       " '존슨즈베이비 엑티브 키즈 샤이니 샴푸, 500ml, 1개',\n",
       " '케라시스 두피 클리닉 샴푸 플러스, 750ml, 2개',\n",
       " '헤드앤숄더 쿨 멘솔 샴푸, 1200ml, 1개',\n",
       " '알페신 카페인 샴푸 C1, 250ml, 1개',\n",
       " '부케가르니 나드 샴푸 시그니처, 1000ml, 2개',\n",
       " '닥터방기원 랩 탈모 증상 완화 샴푸, 1L, 2개',\n",
       " '미쟝센 퍼펙트 세럼 오리지널 샴푸, 680ml, 1개',\n",
       " '닥터라파알 레드 탈모 샴푸 1 000ml, 1L, 3개',\n",
       " '미쟝센 헬시&스트롱 리페어 샴푸, 1000ml, 4개',\n",
       " 'TS 뉴프리미엄 탈모 샴푸 라벤더향, 500g, 1개',\n",
       " '헤드앤숄더 시트러스 레몬 샴푸 750ml x 2p + 딥클린 샴푸 90ml, 1세트',\n",
       " '헤드앤숄더 쿨 멘솔 샴푸, 1200ml, 1개',\n",
       " '메디슈어 탈모증상완화 샴푸 1000ml + 트리트먼트 1000ml 세트, 1세트',\n",
       " '라이프넷 샴푸 플로럴 머스크, 1000ml, 1개',\n",
       " '려 흑운 모근강화 볼륨케어 샴푸, 550ml, 3개',\n",
       " '케라시스 두피 쿨링 샴푸 플러스, 750ml, 2개',\n",
       " '려 청아 딥클렌징 쿨링 샴푸, 3개, 550ml',\n",
       " '아비다선 밸런스 샴푸 지성용 + 트리트먼트, 2개, 500ml',\n",
       " '헤드앤숄더 가려운 두피 케어 샴푸, 1200ml, 1개',\n",
       " '심플리오 리프레싱 스칼프 샴푸 그린 브리즈, 1L, 2개',\n",
       " '닥터시드 블랙빈 안티헤어로스 탈모증상 완화 샴푸, 1000ml, 2개',\n",
       " '폴메디슨 대용량 영양 딥퍼퓸 약산성 뉴트리 샴푸 레드페로몬향, 2개, 1077ml',\n",
       " '씨피원 쓰리세컨즈 헤어 필업 아쿠아 샴푸, 2개, 500ml',\n",
       " '부케가르니 나드 블랙시드 탈모 샴푸, 2개, 1000ml',\n",
       " '케라시스 두피 클리닉 샴푸 플러스, 750ml, 2개',\n",
       " '미쟝센 살롱 플러스 클리닉 10 샴푸 손상모발용, 990ml, 1개',\n",
       " '려 함빛 극손상 영양케어 샴푸, 550ml, 3개',\n",
       " '케라시스 그린티 오일 샴푸 그린티 시트러스향, 1L, 2개']"
      ]
     },
     "execution_count": 20,
     "metadata": {},
     "output_type": "execute_result"
    }
   ],
   "source": [
    "[x.text.strip() for x in soup.select('div.name')]"
   ]
  },
  {
   "cell_type": "code",
   "execution_count": 31,
   "id": "2ff6d15f",
   "metadata": {},
   "outputs": [
    {
     "name": "stdout",
     "output_type": "stream",
     "text": [
      "메디슈어  케라시스  미쟝센 퍼 쿤달 허니 \n",
      "케라시스  닥터포헤어 비오클라쎄 미쟝센 살 \n",
      "려 흑운  케라시스  바론 모링 부케가르니 \n",
      "TS 뉴프 닥터방기원 닥터방기원 제이숲 실 \n",
      "트리트룸  부케가르니 라보에이치 TS 뉴프 \n",
      "닥터방기원 려 함빛  케라시스  닥터포헤어 \n",
      "헤드앤숄더 미쟝센 퍼 아모스 녹 케라시스  \n",
      "존슨즈베이 케라시스  헤드앤숄더 알페신 카 \n",
      "부케가르니 닥터방기원 미쟝센 퍼 닥터라파알 \n",
      "미쟝센 헬 TS 뉴프 헤드앤숄더 헤드앤숄더 \n",
      "메디슈어  라이프넷  려 흑운  케라시스  \n",
      "려 청아  아비다선  헤드앤숄더 심플리오  \n",
      "닥터시드  폴메디슨  씨피원 쓰 부케가르니 \n",
      "케라시스  미쟝센 살 려 함빛  케라시스  \n"
     ]
    }
   ],
   "source": [
    "a = [x.text.strip() for x in soup.select('div.name')]\n",
    "\n",
    "for cnt , i in enumerate(a):\n",
    "    print(i[:5], end=' ')\n",
    "    if cnt%4 ==3:\n",
    "        print()"
   ]
  },
  {
   "cell_type": "code",
   "execution_count": 29,
   "id": "a525f920",
   "metadata": {},
   "outputs": [
    {
     "data": {
      "text/plain": [
       "13"
      ]
     },
     "execution_count": 29,
     "metadata": {},
     "output_type": "execute_result"
    }
   ],
   "source": [
    "cnt//4"
   ]
  },
  {
   "cell_type": "code",
   "execution_count": null,
   "id": "09fe6691",
   "metadata": {},
   "outputs": [],
   "source": []
  }
 ],
 "metadata": {
  "kernelspec": {
   "display_name": "Python 3 (ipykernel)",
   "language": "python",
   "name": "python3"
  },
  "language_info": {
   "codemirror_mode": {
    "name": "ipython",
    "version": 3
   },
   "file_extension": ".py",
   "mimetype": "text/x-python",
   "name": "python",
   "nbconvert_exporter": "python",
   "pygments_lexer": "ipython3",
   "version": "3.7.11"
  }
 },
 "nbformat": 4,
 "nbformat_minor": 5
}
