{
  "nbformat": 4,
  "nbformat_minor": 0,
  "metadata": {
    "colab": {
      "name": "scalp_dx_rec_shampoo.ipynb",
      "provenance": [],
      "collapsed_sections": []
    },
    "kernelspec": {
      "name": "python3",
      "display_name": "Python 3"
    },
    "language_info": {
      "name": "python"
    }
  },
  "cells": [
    {
      "cell_type": "markdown",
      "source": [
        "1. 4개의 이미지 생성 및 로드 후 현재날짜 폴더에 저장. \n",
        "2. 이미지 전처리\n",
        "3. 모델로 예측\n",
        "4. 예측값 저장"
      ],
      "metadata": {
        "id": "7ICrT6VWgr7P"
      }
    },
    {
      "cell_type": "markdown",
      "source": [
        "0,1,2,3 = [그렇지 않다, 조금 그렇다, 그렇다, 매우 그렇다]\n",
        "\n",
        "1. 샴푸 후 얼마 지나지  않아 당기고 가렵거나 따갑다\n",
        "2. 머리를 하루만 감지 않아도 기름이 진다\n",
        "3. 두피를 긁으면 쉽게 붉어진다\n",
        "4. 두피에 뾰루지가 난다\n",
        "5. 머리카락이 요즘들어 많이 빠진다\n",
        "6. 머리 숱이 적어 진 것 같다"
      ],
      "metadata": {
        "id": "3Djr2TIIa2SN"
      }
    },
    {
      "cell_type": "code",
      "source": [
        "!sudo apt-get install -y fonts-nanum\n",
        "!sudo fc-cache -fv\n",
        "!rm ~/.cache/matplotlib -rf\n",
        "\n",
        "#실행 후 runtime 다시 실행"
      ],
      "metadata": {
        "colab": {
          "base_uri": "https://localhost:8080/"
        },
        "id": "bEXGNmzVQIwm",
        "outputId": "4e5aa5a8-5d4a-448b-c540-4fbcb4945031"
      },
      "execution_count": null,
      "outputs": [
        {
          "output_type": "stream",
          "name": "stdout",
          "text": [
            "Reading package lists... Done\n",
            "Building dependency tree       \n",
            "Reading state information... Done\n",
            "The following NEW packages will be installed:\n",
            "  fonts-nanum\n",
            "0 upgraded, 1 newly installed, 0 to remove and 40 not upgraded.\n",
            "Need to get 9,604 kB of archives.\n",
            "After this operation, 29.5 MB of additional disk space will be used.\n",
            "Get:1 http://archive.ubuntu.com/ubuntu bionic/universe amd64 fonts-nanum all 20170925-1 [9,604 kB]\n",
            "Fetched 9,604 kB in 2s (5,233 kB/s)\n",
            "debconf: unable to initialize frontend: Dialog\n",
            "debconf: (No usable dialog-like program is installed, so the dialog based frontend cannot be used. at /usr/share/perl5/Debconf/FrontEnd/Dialog.pm line 76, <> line 1.)\n",
            "debconf: falling back to frontend: Readline\n",
            "debconf: unable to initialize frontend: Readline\n",
            "debconf: (This frontend requires a controlling tty.)\n",
            "debconf: falling back to frontend: Teletype\n",
            "dpkg-preconfigure: unable to re-open stdin: \n",
            "Selecting previously unselected package fonts-nanum.\n",
            "(Reading database ... 155501 files and directories currently installed.)\n",
            "Preparing to unpack .../fonts-nanum_20170925-1_all.deb ...\n",
            "Unpacking fonts-nanum (20170925-1) ...\n",
            "Setting up fonts-nanum (20170925-1) ...\n",
            "Processing triggers for fontconfig (2.12.6-0ubuntu2) ...\n",
            "/usr/share/fonts: caching, new cache contents: 0 fonts, 1 dirs\n",
            "/usr/share/fonts/truetype: caching, new cache contents: 0 fonts, 3 dirs\n",
            "/usr/share/fonts/truetype/humor-sans: caching, new cache contents: 1 fonts, 0 dirs\n",
            "/usr/share/fonts/truetype/liberation: caching, new cache contents: 16 fonts, 0 dirs\n",
            "/usr/share/fonts/truetype/nanum: caching, new cache contents: 10 fonts, 0 dirs\n",
            "/usr/local/share/fonts: caching, new cache contents: 0 fonts, 0 dirs\n",
            "/root/.local/share/fonts: skipping, no such directory\n",
            "/root/.fonts: skipping, no such directory\n",
            "/var/cache/fontconfig: cleaning cache directory\n",
            "/root/.cache/fontconfig: not cleaning non-existent cache directory\n",
            "/root/.fontconfig: not cleaning non-existent cache directory\n",
            "fc-cache: succeeded\n"
          ]
        }
      ]
    },
    {
      "cell_type": "code",
      "source": [
        "from google.colab import drive\n",
        "drive.mount('/content/drive')"
      ],
      "metadata": {
        "colab": {
          "base_uri": "https://localhost:8080/"
        },
        "id": "aE9xABbNXXRz",
        "outputId": "2f7cf9be-d225-4f55-e436-9bdeec645703"
      },
      "execution_count": null,
      "outputs": [
        {
          "output_type": "stream",
          "name": "stdout",
          "text": [
            "Mounted at /content/drive\n"
          ]
        }
      ]
    },
    {
      "cell_type": "code",
      "source": [
        "survey = [0,2,2,2,1,1]"
      ],
      "metadata": {
        "id": "9QTqyi03a0yz"
      },
      "execution_count": null,
      "outputs": []
    },
    {
      "cell_type": "code",
      "source": [
        "frcnn = 1   #감지 되면 1, 안되면 0"
      ],
      "metadata": {
        "id": "iK7o8ksS-KJF"
      },
      "execution_count": null,
      "outputs": []
    },
    {
      "cell_type": "code",
      "execution_count": null,
      "metadata": {
        "id": "vzl6wQVrXFrI"
      },
      "outputs": [],
      "source": [
        "# 모듈 호출\n",
        "import cv2\n",
        "import numpy as np\n",
        "from tensorflow.keras.models import load_model\n",
        "import requests\n",
        "from datetime import datetime\n",
        "import os\n",
        "from datetime import date\n",
        "import glob\n",
        "import pandas as pd\n",
        "import time\n",
        "import matplotlib.pyplot as plt\n",
        "%config InlineBackend.figure_format = 'retina'\n"
      ]
    },
    {
      "cell_type": "code",
      "source": [
        "option = int(input('load image?(1), take image? (2) '))"
      ],
      "metadata": {
        "colab": {
          "base_uri": "https://localhost:8080/"
        },
        "id": "LvmuHTQTXMit",
        "outputId": "9158fa44-1c57-40f5-a852-ead978e77c22"
      },
      "execution_count": null,
      "outputs": [
        {
          "name": "stdout",
          "output_type": "stream",
          "text": [
            "load image?(1), take image? (2) 1\n"
          ]
        }
      ]
    },
    {
      "cell_type": "code",
      "source": [
        "today = date.today()\n",
        "date = today.strftime('%y_%m_%d')\n",
        "date"
      ],
      "metadata": {
        "colab": {
          "base_uri": "https://localhost:8080/",
          "height": 35
        },
        "id": "qNgo-LvoZrwW",
        "outputId": "71ff3903-e312-43f4-fa5b-92fdd17d4aef"
      },
      "execution_count": null,
      "outputs": [
        {
          "output_type": "execute_result",
          "data": {
            "text/plain": [
              "'22_04_22'"
            ],
            "application/vnd.google.colaboratory.intrinsic+json": {
              "type": "string"
            }
          },
          "metadata": {},
          "execution_count": 4
        }
      ]
    },
    {
      "cell_type": "code",
      "source": [
        "img_path = '/content/drive/MyDrive/Final_Project/구세은/{}'.format(date)\n",
        "img_path\n",
        "os.makedirs(img_path, exist_ok=True)  #덮어쓰기 가능하려면  True\n",
        "print(\"{} folder is created!\".format(img_path))"
      ],
      "metadata": {
        "colab": {
          "base_uri": "https://localhost:8080/"
        },
        "id": "0ZI6TEwGb84R",
        "outputId": "64067078-c9fa-495c-a8a3-5950617195fe"
      },
      "execution_count": null,
      "outputs": [
        {
          "output_type": "stream",
          "name": "stdout",
          "text": [
            "/content/drive/MyDrive/Final_Project/구세은/22_04_22 folder is created!\n"
          ]
        }
      ]
    },
    {
      "cell_type": "code",
      "source": [
        "#4개의 이미지 (1, 2, 3, 4. jpg)  오늘 날짜 파일에 저장\n",
        "\n",
        "if option == 2:\n",
        "    cap = cv2.VideoCapture(0) # 영상을 읽어올 카메라 지정\n",
        "\n",
        "    if not cap.isOpened(): # 카메라가 제대로 설정되지 않을 시 오류 메세지 출력\n",
        "        print('video capture failed')\n",
        "        sys.exit()\n",
        "\n",
        "    while True: \n",
        "        ret, frame = cap.read() # 카메라를 통해 영상 읽어오기\n",
        "\n",
        "        if not ret: # 영상 읽기 실패 시 오류 메세지 출력\n",
        "            print('videos read failed')\n",
        "            break\n",
        "\n",
        "        cv2.imshow(\"camera\",frame) # 창에 영상 표시 \n",
        "\n",
        "        if cv2.waitKey(20) == ord('s'): # 's' 키를 입력 시 해당 시점의 영상을 저장\n",
        "            img_counter = 1\n",
        "            img_name = \"{}.jpg\".format(img_counter)\n",
        "            cv2.imwrite(img_name, frame)\n",
        "            print(\"{} written! \".format(img_name))\n",
        "            img_counter += 1\n",
        "            if img_counter == 5:\n",
        "              break\n",
        "\n",
        "\n",
        "        if cv2.waitKey(20) == 27:\n",
        "            # ESC pressed\n",
        "            print(\"Escape hit, closing...\")\n",
        "            break\n",
        "\n",
        "    cap.release()\n",
        "    cv2.destroyAllWindows() # 카메라 및 창 닫기\n",
        "if option == 1:\n",
        "    print('put 4 files in {} folder'.format(img_path))\n",
        "else: \n",
        "    print(\"wrong input\")\n",
        "    option = int(input('load image?(1), take image? (2) '))"
      ],
      "metadata": {
        "id": "eQeNx7EDXMgq"
      },
      "execution_count": null,
      "outputs": []
    },
    {
      "cell_type": "code",
      "source": [
        "images_path = glob.glob(img_path + '/*.jpg')\n",
        "num_img = len(images_path)\n",
        "\n",
        "if num_img != 4:\n",
        "  raise Exception('Need 4 imges to process!!')\n",
        "  raise UserWarning('Exit Early')\n",
        "else:\n",
        "  print('good to go')\n"
      ],
      "metadata": {
        "colab": {
          "base_uri": "https://localhost:8080/"
        },
        "id": "atAc0wl7gQl_",
        "outputId": "c8cfdbe0-08d9-49c1-d8b8-2c58348e6b9d"
      },
      "execution_count": null,
      "outputs": [
        {
          "output_type": "stream",
          "name": "stdout",
          "text": [
            "good to go\n"
          ]
        }
      ]
    },
    {
      "cell_type": "code",
      "source": [
        "images_path"
      ],
      "metadata": {
        "colab": {
          "base_uri": "https://localhost:8080/"
        },
        "id": "TP9RRZUy-wV1",
        "outputId": "68acede4-7007-4bb0-a786-297cee4efcde"
      },
      "execution_count": null,
      "outputs": [
        {
          "output_type": "execute_result",
          "data": {
            "text/plain": [
              "['/content/drive/MyDrive/Final_Project/구세은/22_04_22/4.jpg',\n",
              " '/content/drive/MyDrive/Final_Project/구세은/22_04_22/3.jpg',\n",
              " '/content/drive/MyDrive/Final_Project/구세은/22_04_22/1.jpg',\n",
              " '/content/drive/MyDrive/Final_Project/구세은/22_04_22/2.jpg']"
            ]
          },
          "metadata": {},
          "execution_count": 17
        }
      ]
    },
    {
      "cell_type": "code",
      "source": [
        "#img resize\n",
        "for img in images_path:\n",
        "  i = img[-5]\n",
        "  img= cv2.imread(img)\n",
        "  imgname = cv2.cvtColor(img, cv2.COLOR_BGR2RGB) # 컬러타입을 RGB로 변경\n",
        "  imgname= cv2.resize(img,(224,224))/255.0 # 입력값으로 쓰기위해 리사이즈 및 스케일링\n",
        "  imgname = img.reshape((1,)+img.shape) # 입력값으로 형태 변경\n",
        "\n",
        "\n",
        "# img = cv2.imread('/content/drive/MyDrive/Final_Project/Test/folliculitis/folliculitis_2/0617_A2LEBJJDE000815_1606535616973_2_TH.jpg') # 저장된 이미지 불러오기\n",
        "# img = cv2.cvtColor(img, cv2.COLOR_BGR2RGB) # 컬러타입을 RGB로 변경\n",
        "# img = cv2.resize(img,(224,224))/255.0 # 입력값으로 쓰기위해 리사이즈 및 스케일링\n",
        "# img = img.reshape((1,)+img.shape) # 입력값으로 형태 변경"
      ],
      "metadata": {
        "id": "Ut41df5VXMe5"
      },
      "execution_count": null,
      "outputs": []
    },
    {
      "cell_type": "code",
      "source": [
        "model_path ='/content/drive/MyDrive/Final_Project/구세은/model'\n",
        "glob.glob(model_path + '/*')"
      ],
      "metadata": {
        "colab": {
          "base_uri": "https://localhost:8080/"
        },
        "id": "V2-91mOvXMdE",
        "outputId": "77bc0aa0-67a0-4927-c7a8-f043f0bf562c"
      },
      "execution_count": null,
      "outputs": [
        {
          "output_type": "execute_result",
          "data": {
            "text/plain": [
              "['/content/drive/MyDrive/Final_Project/구세은/model/dryscalp_resnet1.h5',\n",
              " '/content/drive/MyDrive/Final_Project/구세은/model/erythema_resnet.h5',\n",
              " '/content/drive/MyDrive/Final_Project/구세은/model/folliculitis_resnet.h5',\n",
              " '/content/drive/MyDrive/Final_Project/구세은/model/dandruff_resnet.h5',\n",
              " '/content/drive/MyDrive/Final_Project/구세은/model/oilyscalp_resnet.h5',\n",
              " '/content/drive/MyDrive/Final_Project/구세은/model/hairloss_resnet.h5']"
            ]
          },
          "metadata": {},
          "execution_count": 19
        }
      ]
    },
    {
      "cell_type": "code",
      "source": [
        "# def findKey(search_value):\n",
        "#     for key, value in dic.items():\n",
        "#         if(value == search_value):\n",
        "#             return key\n",
        "#     return -1"
      ],
      "metadata": {
        "id": "QQl6NdXn0Zys"
      },
      "execution_count": null,
      "outputs": []
    },
    {
      "cell_type": "code",
      "source": [
        "def scalp_score(img_path, model_path):\n",
        "  out = []\n",
        "  img_folder_paths = glob.glob(img_path + '/*.jpg')\n",
        "  model_paths = glob.glob(model_path + '/*')\n",
        "  for i in img_folder_paths:\n",
        "    \n",
        "    \n",
        "    for model in model_paths:\n",
        "      model_name = model.split('/')[-1]\n",
        "      model_name = model_name.split('_')[0]\n",
        "      model = load_model(model, compile = False)  \n",
        "      prediction =model.predict(image)\n",
        "      max = np.argmax(prediction)\n",
        "      out.append([image_name, model_name, max])\n",
        "  out = pd.DataFrame(out, columns = ['image_name', 'model_name', 'predict'])\n",
        "  return(out)\n"
      ],
      "metadata": {
        "id": "b_8xV_j4yjol"
      },
      "execution_count": null,
      "outputs": []
    },
    {
      "cell_type": "code",
      "source": [
        "start = time.time()\n",
        "df = scalp_score(img_path, model_path)\n",
        "end = time.time()\n",
        "print(f'total time(s):{end-start}')"
      ],
      "metadata": {
        "colab": {
          "base_uri": "https://localhost:8080/"
        },
        "id": "PAxlqDWM3C6Y",
        "outputId": "a91ee207-d471-4a0a-b46e-0899aff95466"
      },
      "execution_count": null,
      "outputs": [
        {
          "output_type": "stream",
          "name": "stdout",
          "text": [
            "WARNING:tensorflow:5 out of the last 5 calls to <function Model.make_predict_function.<locals>.predict_function at 0x7fecb6104c20> triggered tf.function retracing. Tracing is expensive and the excessive number of tracings could be due to (1) creating @tf.function repeatedly in a loop, (2) passing tensors with different shapes, (3) passing Python objects instead of tensors. For (1), please define your @tf.function outside of the loop. For (2), @tf.function has experimental_relax_shapes=True option that relaxes argument shapes that can avoid unnecessary retracing. For (3), please refer to https://www.tensorflow.org/guide/function#controlling_retracing and https://www.tensorflow.org/api_docs/python/tf/function for  more details.\n",
            "WARNING:tensorflow:6 out of the last 6 calls to <function Model.make_predict_function.<locals>.predict_function at 0x7fecb12b68c0> triggered tf.function retracing. Tracing is expensive and the excessive number of tracings could be due to (1) creating @tf.function repeatedly in a loop, (2) passing tensors with different shapes, (3) passing Python objects instead of tensors. For (1), please define your @tf.function outside of the loop. For (2), @tf.function has experimental_relax_shapes=True option that relaxes argument shapes that can avoid unnecessary retracing. For (3), please refer to https://www.tensorflow.org/guide/function#controlling_retracing and https://www.tensorflow.org/api_docs/python/tf/function for  more details.\n",
            "total time(s):309.5966830253601\n"
          ]
        }
      ]
    },
    {
      "cell_type": "code",
      "source": [
        "df"
      ],
      "metadata": {
        "colab": {
          "base_uri": "https://localhost:8080/",
          "height": 802
        },
        "id": "hwwEsaL5NdRm",
        "outputId": "aaa01011-536f-4f8c-f5ba-42058f6d3d5b"
      },
      "execution_count": null,
      "outputs": [
        {
          "output_type": "execute_result",
          "data": {
            "text/plain": [
              "   image_name    model_name  predict\n",
              "0           4      dryscalp        3\n",
              "1           4      erythema        2\n",
              "2           4  folliculitis        1\n",
              "3           4      dandruff        3\n",
              "4           4     oilyscalp        2\n",
              "5           4      hairloss        2\n",
              "6           3      dryscalp        3\n",
              "7           3      erythema        2\n",
              "8           3  folliculitis        3\n",
              "9           3      dandruff        3\n",
              "10          3     oilyscalp        2\n",
              "11          3      hairloss        2\n",
              "12          1      dryscalp        3\n",
              "13          1      erythema        2\n",
              "14          1  folliculitis        3\n",
              "15          1      dandruff        3\n",
              "16          1     oilyscalp        2\n",
              "17          1      hairloss        2\n",
              "18          2      dryscalp        3\n",
              "19          2      erythema        2\n",
              "20          2  folliculitis        3\n",
              "21          2      dandruff        3\n",
              "22          2     oilyscalp        2\n",
              "23          2      hairloss        2"
            ],
            "text/html": [
              "\n",
              "  <div id=\"df-2a8dc277-a7b8-446b-9b9a-bed2468a757e\">\n",
              "    <div class=\"colab-df-container\">\n",
              "      <div>\n",
              "<style scoped>\n",
              "    .dataframe tbody tr th:only-of-type {\n",
              "        vertical-align: middle;\n",
              "    }\n",
              "\n",
              "    .dataframe tbody tr th {\n",
              "        vertical-align: top;\n",
              "    }\n",
              "\n",
              "    .dataframe thead th {\n",
              "        text-align: right;\n",
              "    }\n",
              "</style>\n",
              "<table border=\"1\" class=\"dataframe\">\n",
              "  <thead>\n",
              "    <tr style=\"text-align: right;\">\n",
              "      <th></th>\n",
              "      <th>image_name</th>\n",
              "      <th>model_name</th>\n",
              "      <th>predict</th>\n",
              "    </tr>\n",
              "  </thead>\n",
              "  <tbody>\n",
              "    <tr>\n",
              "      <th>0</th>\n",
              "      <td>4</td>\n",
              "      <td>dryscalp</td>\n",
              "      <td>3</td>\n",
              "    </tr>\n",
              "    <tr>\n",
              "      <th>1</th>\n",
              "      <td>4</td>\n",
              "      <td>erythema</td>\n",
              "      <td>2</td>\n",
              "    </tr>\n",
              "    <tr>\n",
              "      <th>2</th>\n",
              "      <td>4</td>\n",
              "      <td>folliculitis</td>\n",
              "      <td>1</td>\n",
              "    </tr>\n",
              "    <tr>\n",
              "      <th>3</th>\n",
              "      <td>4</td>\n",
              "      <td>dandruff</td>\n",
              "      <td>3</td>\n",
              "    </tr>\n",
              "    <tr>\n",
              "      <th>4</th>\n",
              "      <td>4</td>\n",
              "      <td>oilyscalp</td>\n",
              "      <td>2</td>\n",
              "    </tr>\n",
              "    <tr>\n",
              "      <th>5</th>\n",
              "      <td>4</td>\n",
              "      <td>hairloss</td>\n",
              "      <td>2</td>\n",
              "    </tr>\n",
              "    <tr>\n",
              "      <th>6</th>\n",
              "      <td>3</td>\n",
              "      <td>dryscalp</td>\n",
              "      <td>3</td>\n",
              "    </tr>\n",
              "    <tr>\n",
              "      <th>7</th>\n",
              "      <td>3</td>\n",
              "      <td>erythema</td>\n",
              "      <td>2</td>\n",
              "    </tr>\n",
              "    <tr>\n",
              "      <th>8</th>\n",
              "      <td>3</td>\n",
              "      <td>folliculitis</td>\n",
              "      <td>3</td>\n",
              "    </tr>\n",
              "    <tr>\n",
              "      <th>9</th>\n",
              "      <td>3</td>\n",
              "      <td>dandruff</td>\n",
              "      <td>3</td>\n",
              "    </tr>\n",
              "    <tr>\n",
              "      <th>10</th>\n",
              "      <td>3</td>\n",
              "      <td>oilyscalp</td>\n",
              "      <td>2</td>\n",
              "    </tr>\n",
              "    <tr>\n",
              "      <th>11</th>\n",
              "      <td>3</td>\n",
              "      <td>hairloss</td>\n",
              "      <td>2</td>\n",
              "    </tr>\n",
              "    <tr>\n",
              "      <th>12</th>\n",
              "      <td>1</td>\n",
              "      <td>dryscalp</td>\n",
              "      <td>3</td>\n",
              "    </tr>\n",
              "    <tr>\n",
              "      <th>13</th>\n",
              "      <td>1</td>\n",
              "      <td>erythema</td>\n",
              "      <td>2</td>\n",
              "    </tr>\n",
              "    <tr>\n",
              "      <th>14</th>\n",
              "      <td>1</td>\n",
              "      <td>folliculitis</td>\n",
              "      <td>3</td>\n",
              "    </tr>\n",
              "    <tr>\n",
              "      <th>15</th>\n",
              "      <td>1</td>\n",
              "      <td>dandruff</td>\n",
              "      <td>3</td>\n",
              "    </tr>\n",
              "    <tr>\n",
              "      <th>16</th>\n",
              "      <td>1</td>\n",
              "      <td>oilyscalp</td>\n",
              "      <td>2</td>\n",
              "    </tr>\n",
              "    <tr>\n",
              "      <th>17</th>\n",
              "      <td>1</td>\n",
              "      <td>hairloss</td>\n",
              "      <td>2</td>\n",
              "    </tr>\n",
              "    <tr>\n",
              "      <th>18</th>\n",
              "      <td>2</td>\n",
              "      <td>dryscalp</td>\n",
              "      <td>3</td>\n",
              "    </tr>\n",
              "    <tr>\n",
              "      <th>19</th>\n",
              "      <td>2</td>\n",
              "      <td>erythema</td>\n",
              "      <td>2</td>\n",
              "    </tr>\n",
              "    <tr>\n",
              "      <th>20</th>\n",
              "      <td>2</td>\n",
              "      <td>folliculitis</td>\n",
              "      <td>3</td>\n",
              "    </tr>\n",
              "    <tr>\n",
              "      <th>21</th>\n",
              "      <td>2</td>\n",
              "      <td>dandruff</td>\n",
              "      <td>3</td>\n",
              "    </tr>\n",
              "    <tr>\n",
              "      <th>22</th>\n",
              "      <td>2</td>\n",
              "      <td>oilyscalp</td>\n",
              "      <td>2</td>\n",
              "    </tr>\n",
              "    <tr>\n",
              "      <th>23</th>\n",
              "      <td>2</td>\n",
              "      <td>hairloss</td>\n",
              "      <td>2</td>\n",
              "    </tr>\n",
              "  </tbody>\n",
              "</table>\n",
              "</div>\n",
              "      <button class=\"colab-df-convert\" onclick=\"convertToInteractive('df-2a8dc277-a7b8-446b-9b9a-bed2468a757e')\"\n",
              "              title=\"Convert this dataframe to an interactive table.\"\n",
              "              style=\"display:none;\">\n",
              "        \n",
              "  <svg xmlns=\"http://www.w3.org/2000/svg\" height=\"24px\"viewBox=\"0 0 24 24\"\n",
              "       width=\"24px\">\n",
              "    <path d=\"M0 0h24v24H0V0z\" fill=\"none\"/>\n",
              "    <path d=\"M18.56 5.44l.94 2.06.94-2.06 2.06-.94-2.06-.94-.94-2.06-.94 2.06-2.06.94zm-11 1L8.5 8.5l.94-2.06 2.06-.94-2.06-.94L8.5 2.5l-.94 2.06-2.06.94zm10 10l.94 2.06.94-2.06 2.06-.94-2.06-.94-.94-2.06-.94 2.06-2.06.94z\"/><path d=\"M17.41 7.96l-1.37-1.37c-.4-.4-.92-.59-1.43-.59-.52 0-1.04.2-1.43.59L10.3 9.45l-7.72 7.72c-.78.78-.78 2.05 0 2.83L4 21.41c.39.39.9.59 1.41.59.51 0 1.02-.2 1.41-.59l7.78-7.78 2.81-2.81c.8-.78.8-2.07 0-2.86zM5.41 20L4 18.59l7.72-7.72 1.47 1.35L5.41 20z\"/>\n",
              "  </svg>\n",
              "      </button>\n",
              "      \n",
              "  <style>\n",
              "    .colab-df-container {\n",
              "      display:flex;\n",
              "      flex-wrap:wrap;\n",
              "      gap: 12px;\n",
              "    }\n",
              "\n",
              "    .colab-df-convert {\n",
              "      background-color: #E8F0FE;\n",
              "      border: none;\n",
              "      border-radius: 50%;\n",
              "      cursor: pointer;\n",
              "      display: none;\n",
              "      fill: #1967D2;\n",
              "      height: 32px;\n",
              "      padding: 0 0 0 0;\n",
              "      width: 32px;\n",
              "    }\n",
              "\n",
              "    .colab-df-convert:hover {\n",
              "      background-color: #E2EBFA;\n",
              "      box-shadow: 0px 1px 2px rgba(60, 64, 67, 0.3), 0px 1px 3px 1px rgba(60, 64, 67, 0.15);\n",
              "      fill: #174EA6;\n",
              "    }\n",
              "\n",
              "    [theme=dark] .colab-df-convert {\n",
              "      background-color: #3B4455;\n",
              "      fill: #D2E3FC;\n",
              "    }\n",
              "\n",
              "    [theme=dark] .colab-df-convert:hover {\n",
              "      background-color: #434B5C;\n",
              "      box-shadow: 0px 1px 3px 1px rgba(0, 0, 0, 0.15);\n",
              "      filter: drop-shadow(0px 1px 2px rgba(0, 0, 0, 0.3));\n",
              "      fill: #FFFFFF;\n",
              "    }\n",
              "  </style>\n",
              "\n",
              "      <script>\n",
              "        const buttonEl =\n",
              "          document.querySelector('#df-2a8dc277-a7b8-446b-9b9a-bed2468a757e button.colab-df-convert');\n",
              "        buttonEl.style.display =\n",
              "          google.colab.kernel.accessAllowed ? 'block' : 'none';\n",
              "\n",
              "        async function convertToInteractive(key) {\n",
              "          const element = document.querySelector('#df-2a8dc277-a7b8-446b-9b9a-bed2468a757e');\n",
              "          const dataTable =\n",
              "            await google.colab.kernel.invokeFunction('convertToInteractive',\n",
              "                                                     [key], {});\n",
              "          if (!dataTable) return;\n",
              "\n",
              "          const docLinkHtml = 'Like what you see? Visit the ' +\n",
              "            '<a target=\"_blank\" href=https://colab.research.google.com/notebooks/data_table.ipynb>data table notebook</a>'\n",
              "            + ' to learn more about interactive tables.';\n",
              "          element.innerHTML = '';\n",
              "          dataTable['output_type'] = 'display_data';\n",
              "          await google.colab.output.renderOutput(dataTable, element);\n",
              "          const docLink = document.createElement('div');\n",
              "          docLink.innerHTML = docLinkHtml;\n",
              "          element.appendChild(docLink);\n",
              "        }\n",
              "      </script>\n",
              "    </div>\n",
              "  </div>\n",
              "  "
            ]
          },
          "metadata": {},
          "execution_count": 22
        }
      ]
    },
    {
      "cell_type": "code",
      "source": [
        "mean = df.groupby(by='model_name').mean().reset_index()\n",
        "mean = mean.set_index('model_name')\n",
        "mean\n"
      ],
      "metadata": {
        "colab": {
          "base_uri": "https://localhost:8080/",
          "height": 269
        },
        "id": "gWHSAWOEN2Uc",
        "outputId": "165ce0f7-7028-4380-eea7-ed23a6afa12a"
      },
      "execution_count": null,
      "outputs": [
        {
          "output_type": "execute_result",
          "data": {
            "text/plain": [
              "              predict\n",
              "model_name           \n",
              "dandruff          3.0\n",
              "dryscalp          3.0\n",
              "erythema          2.0\n",
              "folliculitis      2.5\n",
              "hairloss          2.0\n",
              "oilyscalp         2.0"
            ],
            "text/html": [
              "\n",
              "  <div id=\"df-3e6e1df1-4021-4afa-9dce-0949d00f788c\">\n",
              "    <div class=\"colab-df-container\">\n",
              "      <div>\n",
              "<style scoped>\n",
              "    .dataframe tbody tr th:only-of-type {\n",
              "        vertical-align: middle;\n",
              "    }\n",
              "\n",
              "    .dataframe tbody tr th {\n",
              "        vertical-align: top;\n",
              "    }\n",
              "\n",
              "    .dataframe thead th {\n",
              "        text-align: right;\n",
              "    }\n",
              "</style>\n",
              "<table border=\"1\" class=\"dataframe\">\n",
              "  <thead>\n",
              "    <tr style=\"text-align: right;\">\n",
              "      <th></th>\n",
              "      <th>predict</th>\n",
              "    </tr>\n",
              "    <tr>\n",
              "      <th>model_name</th>\n",
              "      <th></th>\n",
              "    </tr>\n",
              "  </thead>\n",
              "  <tbody>\n",
              "    <tr>\n",
              "      <th>dandruff</th>\n",
              "      <td>3.0</td>\n",
              "    </tr>\n",
              "    <tr>\n",
              "      <th>dryscalp</th>\n",
              "      <td>3.0</td>\n",
              "    </tr>\n",
              "    <tr>\n",
              "      <th>erythema</th>\n",
              "      <td>2.0</td>\n",
              "    </tr>\n",
              "    <tr>\n",
              "      <th>folliculitis</th>\n",
              "      <td>2.5</td>\n",
              "    </tr>\n",
              "    <tr>\n",
              "      <th>hairloss</th>\n",
              "      <td>2.0</td>\n",
              "    </tr>\n",
              "    <tr>\n",
              "      <th>oilyscalp</th>\n",
              "      <td>2.0</td>\n",
              "    </tr>\n",
              "  </tbody>\n",
              "</table>\n",
              "</div>\n",
              "      <button class=\"colab-df-convert\" onclick=\"convertToInteractive('df-3e6e1df1-4021-4afa-9dce-0949d00f788c')\"\n",
              "              title=\"Convert this dataframe to an interactive table.\"\n",
              "              style=\"display:none;\">\n",
              "        \n",
              "  <svg xmlns=\"http://www.w3.org/2000/svg\" height=\"24px\"viewBox=\"0 0 24 24\"\n",
              "       width=\"24px\">\n",
              "    <path d=\"M0 0h24v24H0V0z\" fill=\"none\"/>\n",
              "    <path d=\"M18.56 5.44l.94 2.06.94-2.06 2.06-.94-2.06-.94-.94-2.06-.94 2.06-2.06.94zm-11 1L8.5 8.5l.94-2.06 2.06-.94-2.06-.94L8.5 2.5l-.94 2.06-2.06.94zm10 10l.94 2.06.94-2.06 2.06-.94-2.06-.94-.94-2.06-.94 2.06-2.06.94z\"/><path d=\"M17.41 7.96l-1.37-1.37c-.4-.4-.92-.59-1.43-.59-.52 0-1.04.2-1.43.59L10.3 9.45l-7.72 7.72c-.78.78-.78 2.05 0 2.83L4 21.41c.39.39.9.59 1.41.59.51 0 1.02-.2 1.41-.59l7.78-7.78 2.81-2.81c.8-.78.8-2.07 0-2.86zM5.41 20L4 18.59l7.72-7.72 1.47 1.35L5.41 20z\"/>\n",
              "  </svg>\n",
              "      </button>\n",
              "      \n",
              "  <style>\n",
              "    .colab-df-container {\n",
              "      display:flex;\n",
              "      flex-wrap:wrap;\n",
              "      gap: 12px;\n",
              "    }\n",
              "\n",
              "    .colab-df-convert {\n",
              "      background-color: #E8F0FE;\n",
              "      border: none;\n",
              "      border-radius: 50%;\n",
              "      cursor: pointer;\n",
              "      display: none;\n",
              "      fill: #1967D2;\n",
              "      height: 32px;\n",
              "      padding: 0 0 0 0;\n",
              "      width: 32px;\n",
              "    }\n",
              "\n",
              "    .colab-df-convert:hover {\n",
              "      background-color: #E2EBFA;\n",
              "      box-shadow: 0px 1px 2px rgba(60, 64, 67, 0.3), 0px 1px 3px 1px rgba(60, 64, 67, 0.15);\n",
              "      fill: #174EA6;\n",
              "    }\n",
              "\n",
              "    [theme=dark] .colab-df-convert {\n",
              "      background-color: #3B4455;\n",
              "      fill: #D2E3FC;\n",
              "    }\n",
              "\n",
              "    [theme=dark] .colab-df-convert:hover {\n",
              "      background-color: #434B5C;\n",
              "      box-shadow: 0px 1px 3px 1px rgba(0, 0, 0, 0.15);\n",
              "      filter: drop-shadow(0px 1px 2px rgba(0, 0, 0, 0.3));\n",
              "      fill: #FFFFFF;\n",
              "    }\n",
              "  </style>\n",
              "\n",
              "      <script>\n",
              "        const buttonEl =\n",
              "          document.querySelector('#df-3e6e1df1-4021-4afa-9dce-0949d00f788c button.colab-df-convert');\n",
              "        buttonEl.style.display =\n",
              "          google.colab.kernel.accessAllowed ? 'block' : 'none';\n",
              "\n",
              "        async function convertToInteractive(key) {\n",
              "          const element = document.querySelector('#df-3e6e1df1-4021-4afa-9dce-0949d00f788c');\n",
              "          const dataTable =\n",
              "            await google.colab.kernel.invokeFunction('convertToInteractive',\n",
              "                                                     [key], {});\n",
              "          if (!dataTable) return;\n",
              "\n",
              "          const docLinkHtml = 'Like what you see? Visit the ' +\n",
              "            '<a target=\"_blank\" href=https://colab.research.google.com/notebooks/data_table.ipynb>data table notebook</a>'\n",
              "            + ' to learn more about interactive tables.';\n",
              "          element.innerHTML = '';\n",
              "          dataTable['output_type'] = 'display_data';\n",
              "          await google.colab.output.renderOutput(dataTable, element);\n",
              "          const docLink = document.createElement('div');\n",
              "          docLink.innerHTML = docLinkHtml;\n",
              "          element.appendChild(docLink);\n",
              "        }\n",
              "      </script>\n",
              "    </div>\n",
              "  </div>\n",
              "  "
            ]
          },
          "metadata": {},
          "execution_count": 23
        }
      ]
    },
    {
      "cell_type": "markdown",
      "source": [
        "fasterRCNN"
      ],
      "metadata": {
        "id": "bkzdSPSIWvkB"
      }
    },
    {
      "cell_type": "code",
      "source": [
        "class WheatTestDataset(Dataset):\n",
        "\n",
        "    def __init__(self, dataframe, image_dir, transforms=None):\n",
        "        super().__init__()\n",
        "\n",
        "        self.image_ids = dataframe['image_id'].unique()\n",
        "        self.df = dataframe\n",
        "        self.image_dir = image_dir\n",
        "        self.transforms = transforms\n",
        "\n",
        "    def __getitem__(self, index: int):\n",
        "\n",
        "        image_id = self.image_ids[index]\n",
        "        records = self.df[self.df['image_id'] == image_id]\n",
        "\n",
        "        image = cv2.imread(f'{self.image_dir}/{image_id}.jpg', cv2.IMREAD_COLOR)\n",
        "        image = cv2.cvtColor(image, cv2.COLOR_BGR2RGB).astype(np.float32)\n",
        "        image /= 255.0\n",
        "\n",
        "        if self.transforms:\n",
        "            sample = {\n",
        "                'image': image,\n",
        "            }\n",
        "            sample = self.transforms(**sample)\n",
        "            image = sample['image']\n",
        "\n",
        "        return image, image_id\n",
        "\n",
        "    def __len__(self) -> int:\n",
        "        return self.image_ids.shape[0]"
      ],
      "metadata": {
        "id": "XoyqsGUeWs81"
      },
      "execution_count": null,
      "outputs": []
    },
    {
      "cell_type": "code",
      "source": [
        "DIR_TEST = './image'\n",
        "WEIGHTS_FILE = './model/fasterrcnn_resnet50_fpn.pth'\n",
        "path = './image/'"
      ],
      "metadata": {
        "id": "_eehsNhPYI33"
      },
      "execution_count": null,
      "outputs": []
    },
    {
      "cell_type": "code",
      "source": [
        "device = torch.device('cuda') if torch.cuda.is_available() else torch.device('cpu')\n",
        "num_classes = 2  # 1 class (wheat) + background\n",
        "\n",
        "# get number of input features for the classifier\n",
        "in_features = model.roi_heads.box_predictor.cls_score.in_features\n",
        "\n",
        "# replace the pre-trained head with a new one\n",
        "model.roi_heads.box_predictor = FastRCNNPredictor(in_features, num_classes)\n",
        "\n",
        "# Load the trained weights\n",
        "model.load_state_dict(torch.load(WEIGHTS_FILE))\n",
        "model.eval()\n",
        "\n",
        "x = model.to(device)\n",
        "\n",
        "test_dataset = WheatTestDataset(test_df, DIR_TEST, get_test_transform())\n",
        "\n",
        "test_data_loader = DataLoader(\n",
        "    test_dataset,\n",
        "    batch_size=10,\n",
        "    shuffle=False,\n",
        "    num_workers=0,\n",
        "    drop_last=False,\n",
        "    collate_fn=collate_fn\n",
        ")\n",
        "\n",
        "\n",
        "\n",
        "detection_threshold = 0.5\n",
        "results = []\n"
      ],
      "metadata": {
        "id": "gZCf2GnpYfBM"
      },
      "execution_count": null,
      "outputs": []
    },
    {
      "cell_type": "code",
      "source": [
        "for images, image_ids in test_data_loader:\n",
        "\n",
        "    images = list(image.to(device) for image in images)\n",
        "    outputs = model(images)\n",
        "\n",
        "    for i, image in enumerate(images):\n",
        "\n",
        "        boxes = outputs[i]['boxes'].data.cpu().numpy()\n",
        "        scores = outputs[i]['scores'].data.cpu().numpy()\n",
        "\n",
        "        boxes = boxes[scores >= detection_threshold].astype(np.int32)\n",
        "        scores = scores[scores >= detection_threshold]\n",
        "        image_id = image_ids[i]\n",
        "\n",
        "        boxes[:, 2] = boxes[:, 2] - boxes[:, 0]\n",
        "        boxes[:, 3] = boxes[:, 3] - boxes[:, 1]\n",
        "\n",
        "        result = {\n",
        "            'image_id': image_id,\n",
        "            'PredictionString': format_prediction_string(boxes, scores)\n",
        "        }\n",
        "\n",
        "\n",
        "        results.append(result)"
      ],
      "metadata": {
        "id": "AtMsWx28YhH0"
      },
      "execution_count": null,
      "outputs": []
    },
    {
      "cell_type": "code",
      "source": [
        ""
      ],
      "metadata": {
        "id": "NprDh3fCYjFs"
      },
      "execution_count": null,
      "outputs": []
    },
    {
      "cell_type": "code",
      "source": [
        "for image in os.listdir(path):\n",
        "    img = cv2.imread(path+image)\n",
        "    img = cv2.resize(img, (224,224))\n",
        "    cv2.imwrite(path+image,img)\n",
        "images = []\n",
        "for image in os.listdir(path):\n",
        "    row=[image[:-4],'1.0 0 0 50 50']\n",
        "    images.append(row)\n",
        "\n",
        "test_df = pd.DataFrame(images, columns = ['image_id','PredictionString'])"
      ],
      "metadata": {
        "id": "rVv77xTvYQ_o"
      },
      "execution_count": null,
      "outputs": []
    },
    {
      "cell_type": "code",
      "source": [
        "# Albumentations\n",
        "def get_test_transform():\n",
        "    return Compose([\n",
        "        # A.Resize(512, 512),\n",
        "        ToTensorV2(p=1.0)])\n",
        "    \n",
        "def collate_fn(batch):\n",
        "    return tuple(zip(*batch))\n",
        "\n",
        "def format_prediction_string(boxes, scores):\n",
        "    pred_strings = []\n",
        "    for j in zip(scores, boxes):\n",
        "        pred_strings.append(\"{0:.4f} {1} {2} {3} {4}\".format(j[0], j[1][0], j[1][1], j[1][2], j[1][3]))\n",
        "\n",
        "    return \" \".join(pred_strings)"
      ],
      "metadata": {
        "id": "arx26PxiX7uA"
      },
      "execution_count": null,
      "outputs": []
    },
    {
      "cell_type": "markdown",
      "source": [
        "Dx"
      ],
      "metadata": {
        "id": "guFgRIALWxae"
      }
    },
    {
      "cell_type": "code",
      "source": [
        "scalp_type = np.where(survey[0] >survey[1], '건성', \n",
        "                      np.where(survey[0] < survey[1],'지성', '중성')).tolist()\n",
        "scalp_type"
      ],
      "metadata": {
        "colab": {
          "base_uri": "https://localhost:8080/",
          "height": 35
        },
        "id": "HPX6UQu9bK2S",
        "outputId": "dd143193-80f0-43f6-e5ef-69fdb11a6d08"
      },
      "execution_count": null,
      "outputs": [
        {
          "output_type": "execute_result",
          "data": {
            "text/plain": [
              "'지성'"
            ],
            "application/vnd.google.colaboratory.intrinsic+json": {
              "type": "string"
            }
          },
          "metadata": {},
          "execution_count": 236
        }
      ]
    },
    {
      "cell_type": "code",
      "source": [
        "scalp_type2 = np.where(scalp_type == '건성', '악건성',\n",
        "                       np.where(scalp_type == '지성', '악지성', '중성').tolist()\n",
        "scalp_type2"
      ],
      "metadata": {
        "colab": {
          "base_uri": "https://localhost:8080/",
          "height": 35
        },
        "id": "T0DHrFAyPbmK",
        "outputId": "3aa6f3a9-23ec-44bd-820e-5f1462e89ef9"
      },
      "execution_count": null,
      "outputs": [
        {
          "output_type": "execute_result",
          "data": {
            "text/plain": [
              "'악지성'"
            ],
            "application/vnd.google.colaboratory.intrinsic+json": {
              "type": "string"
            }
          },
          "metadata": {},
          "execution_count": 81
        }
      ]
    },
    {
      "cell_type": "code",
      "source": [
        "scalp_score = np.where (scalp_type == 0, 0, round((mean.predict.dryscalp + mean.predict.oilyscalp )/2, 1)).tolist()\n",
        "scalp_score"
      ],
      "metadata": {
        "colab": {
          "base_uri": "https://localhost:8080/"
        },
        "id": "egTMTxp_URvq",
        "outputId": "988cd68c-6895-435b-b46c-8cecb6c193b2"
      },
      "execution_count": null,
      "outputs": [
        {
          "output_type": "execute_result",
          "data": {
            "text/plain": [
              "2.5"
            ]
          },
          "metadata": {},
          "execution_count": 25
        }
      ]
    },
    {
      "cell_type": "code",
      "source": [
        "hairloss_score = round(np.mean([mean.predict.hairloss  , min(survey[4], survey[5])]),1)\n",
        "hairloss_score"
      ],
      "metadata": {
        "colab": {
          "base_uri": "https://localhost:8080/"
        },
        "id": "LVVzf2MEcaay",
        "outputId": "9cfef246-8ed1-44f8-bca6-1adb391326ff"
      },
      "execution_count": null,
      "outputs": [
        {
          "output_type": "execute_result",
          "data": {
            "text/plain": [
              "1.5"
            ]
          },
          "metadata": {},
          "execution_count": 26
        }
      ]
    },
    {
      "cell_type": "code",
      "source": [
        "sensitivity_score = round(np.mean([mean.predict.erythema, survey[2] ]),1)\n",
        "sensitivity_score"
      ],
      "metadata": {
        "colab": {
          "base_uri": "https://localhost:8080/"
        },
        "id": "R7PgC3Xmd-tX",
        "outputId": "7e30bfa9-fe16-4c03-df7f-9cb07f923269"
      },
      "execution_count": null,
      "outputs": [
        {
          "output_type": "execute_result",
          "data": {
            "text/plain": [
              "2.0"
            ]
          },
          "metadata": {},
          "execution_count": 27
        }
      ]
    },
    {
      "cell_type": "code",
      "source": [
        "dandruff_score = round(np.mean([mean.predict.dandruff, mean.predict.folliculitis]),1)\n",
        "dandruff_score"
      ],
      "metadata": {
        "colab": {
          "base_uri": "https://localhost:8080/"
        },
        "id": "hw_JO0bjeil9",
        "outputId": "f011428b-50b3-44dc-f2a6-9904a84f9117"
      },
      "execution_count": null,
      "outputs": [
        {
          "output_type": "execute_result",
          "data": {
            "text/plain": [
              "2.8"
            ]
          },
          "metadata": {},
          "execution_count": 28
        }
      ]
    },
    {
      "cell_type": "code",
      "source": [
        "pimple = np.where(frcnn == 1, 3, np.nan).tolist()\n",
        "pimple"
      ],
      "metadata": {
        "colab": {
          "base_uri": "https://localhost:8080/"
        },
        "id": "2m5aZolUJdSZ",
        "outputId": "d8941b02-a09c-436b-b428-27d259f6bcca"
      },
      "execution_count": null,
      "outputs": [
        {
          "output_type": "execute_result",
          "data": {
            "text/plain": [
              "3.0"
            ]
          },
          "metadata": {},
          "execution_count": 56
        }
      ]
    },
    {
      "cell_type": "code",
      "source": [
        "# pimple = np.nan\n",
        "# pimple"
      ],
      "metadata": {
        "colab": {
          "base_uri": "https://localhost:8080/"
        },
        "id": "eDGIBWKzKNo6",
        "outputId": "bf0636c6-fe58-4afd-bf41-ef072c18fa88"
      },
      "execution_count": null,
      "outputs": [
        {
          "output_type": "execute_result",
          "data": {
            "text/plain": [
              "nan"
            ]
          },
          "metadata": {},
          "execution_count": 51
        }
      ]
    },
    {
      "cell_type": "code",
      "source": [
        "folliculitis_score = round(np.nanmean([mean.predict.folliculitis, survey[3], mean.predict.erythema, pimple]),1)\n",
        "folliculitis_score"
      ],
      "metadata": {
        "colab": {
          "base_uri": "https://localhost:8080/"
        },
        "id": "QwwKu7bCdETz",
        "outputId": "476e6039-2613-4f90-a8ac-1e3f290d5bc0"
      },
      "execution_count": null,
      "outputs": [
        {
          "output_type": "execute_result",
          "data": {
            "text/plain": [
              "2.4"
            ]
          },
          "metadata": {},
          "execution_count": 55
        }
      ]
    },
    {
      "cell_type": "code",
      "source": [
        "final_list = [scalp_score, hairloss_score, sensitivity_score, dandruff_score, folliculitis_score]"
      ],
      "metadata": {
        "id": "PG8WB9jvfgXP"
      },
      "execution_count": null,
      "outputs": []
    },
    {
      "cell_type": "code",
      "source": [
        "final_list"
      ],
      "metadata": {
        "colab": {
          "base_uri": "https://localhost:8080/"
        },
        "id": "zT1kpggNfrWY",
        "outputId": "82659d88-7c24-4246-8809-b9128497599a"
      },
      "execution_count": null,
      "outputs": [
        {
          "output_type": "execute_result",
          "data": {
            "text/plain": [
              "[2.5, 1.5, 2.0, 2.8, 2.4]"
            ]
          },
          "metadata": {},
          "execution_count": 58
        }
      ]
    },
    {
      "cell_type": "code",
      "source": [
        "rec_list =[i for i, x in enumerate(final_list) if x >=2]\n",
        "rec_list"
      ],
      "metadata": {
        "colab": {
          "base_uri": "https://localhost:8080/"
        },
        "id": "XeUY9yBuME2D",
        "outputId": "eebae018-1b2d-43af-d9d5-e0ac45065561"
      },
      "execution_count": null,
      "outputs": [
        {
          "output_type": "execute_result",
          "data": {
            "text/plain": [
              "[0, 2, 3, 4]"
            ]
          },
          "metadata": {},
          "execution_count": 116
        }
      ]
    },
    {
      "cell_type": "code",
      "source": [
        ""
      ],
      "metadata": {
        "id": "jjYGsXttPQ98"
      },
      "execution_count": null,
      "outputs": []
    },
    {
      "cell_type": "code",
      "source": [
        "final_index = [scalp_type2, '탈모', '민감성 두피', '비듬', '두피염' ]"
      ],
      "metadata": {
        "id": "7ZZEIg5TOeB1"
      },
      "execution_count": null,
      "outputs": []
    },
    {
      "cell_type": "code",
      "source": [
        "final_index2 = [scalp_type, '탈모', '민감성', '비듬', '두피염' ]"
      ],
      "metadata": {
        "id": "eVfAwOXGuxhR"
      },
      "execution_count": null,
      "outputs": []
    },
    {
      "cell_type": "code",
      "source": [
        "final_keyword = list(map(lambda x: final_index[x], rec_list))\n",
        "final_keyword"
      ],
      "metadata": {
        "colab": {
          "base_uri": "https://localhost:8080/"
        },
        "id": "IdVcWqsrMrBL",
        "outputId": "f6daeab0-a1a8-41b8-efcd-b27688f16dff"
      },
      "execution_count": null,
      "outputs": [
        {
          "output_type": "execute_result",
          "data": {
            "text/plain": [
              "['악지성', '민감성 두피', '비듬', '두피염']"
            ]
          },
          "metadata": {},
          "execution_count": 131
        }
      ]
    },
    {
      "cell_type": "code",
      "source": [
        "final_keyword2 = ', '.join(final_keyword)\n",
        "final_keyword2"
      ],
      "metadata": {
        "colab": {
          "base_uri": "https://localhost:8080/",
          "height": 35
        },
        "id": "WWPUoi6PREPL",
        "outputId": "3aef9ed3-a8d3-4398-fc9d-a51f4524ee00"
      },
      "execution_count": null,
      "outputs": [
        {
          "output_type": "execute_result",
          "data": {
            "text/plain": [
              "'악지성, 민감성 두피, 비듬, 두피염'"
            ],
            "application/vnd.google.colaboratory.intrinsic+json": {
              "type": "string"
            }
          },
          "metadata": {},
          "execution_count": 240
        }
      ]
    },
    {
      "cell_type": "code",
      "source": [
        "final_keyword3 = list(map(lambda x: final_index2[x], rec_list))\n",
        "final_keyword3"
      ],
      "metadata": {
        "colab": {
          "base_uri": "https://localhost:8080/"
        },
        "id": "ZI7SgTVPupyz",
        "outputId": "5d915566-e6a8-4c31-dbfa-f3fe0ed694a4"
      },
      "execution_count": null,
      "outputs": [
        {
          "output_type": "execute_result",
          "data": {
            "text/plain": [
              "['지성', '민감성', '비듬', '두피염']"
            ]
          },
          "metadata": {},
          "execution_count": 241
        }
      ]
    },
    {
      "cell_type": "code",
      "source": [
        "# pre= prediction.tolist()[0]\n",
        "\n",
        "# value = [0,1,2,3]\n",
        "# sum = 0 \n",
        "# for i in value:\n",
        "#   sum = sum + pre[i]*i\n",
        "\n",
        "# sum\n",
        "#평균과 최대값 비슷. 그냥 최대값으로...?있어보이게 평균?"
      ],
      "metadata": {
        "colab": {
          "base_uri": "https://localhost:8080/"
        },
        "id": "E0X698WNHUWT",
        "outputId": "d4a29b0f-0981-45c7-ba53-ef7e3cf25009"
      },
      "execution_count": null,
      "outputs": [
        {
          "output_type": "execute_result",
          "data": {
            "text/plain": [
              "2.0002695919144964"
            ]
          },
          "metadata": {},
          "execution_count": 116
        }
      ]
    },
    {
      "cell_type": "code",
      "source": [
        "# pre"
      ],
      "metadata": {
        "colab": {
          "base_uri": "https://localhost:8080/"
        },
        "id": "GF-D1XV_KtKS",
        "outputId": "1ce2303d-1e98-4577-e029-eb45cf5468ec"
      },
      "execution_count": null,
      "outputs": [
        {
          "output_type": "execute_result",
          "data": {
            "text/plain": [
              "[5.088458578939026e-07,\n",
              " 6.88254009340028e-10,\n",
              " 0.9997288584709167,\n",
              " 0.0002706247614696622]"
            ]
          },
          "metadata": {},
          "execution_count": 114
        }
      ]
    },
    {
      "cell_type": "code",
      "source": [
        "# max"
      ],
      "metadata": {
        "colab": {
          "base_uri": "https://localhost:8080/"
        },
        "id": "mDlrhpXYKvr1",
        "outputId": "4440a17a-5e1a-428c-dad0-00af30826c32"
      },
      "execution_count": null,
      "outputs": [
        {
          "output_type": "execute_result",
          "data": {
            "text/plain": [
              "2"
            ]
          },
          "metadata": {},
          "execution_count": 115
        }
      ]
    },
    {
      "cell_type": "code",
      "source": [
        "print('ㅇㅇ님의 두피 타입은 {} 입니다. \\n세부적인 두피 분석 결과, 현재 ㅇㅇ 님의 두피는 {} 문제가 있습니다.\\n아래 그래프를 참고 하세요. 3으로 갈 수록 상태의 심한 정도를 나타냅니다.'.format(scalp_type, final_keyword2))"
      ],
      "metadata": {
        "colab": {
          "base_uri": "https://localhost:8080/"
        },
        "id": "bzLdq940gdFk",
        "outputId": "2173962c-ad75-480b-9838-ab2ef85ed48b"
      },
      "execution_count": null,
      "outputs": [
        {
          "output_type": "stream",
          "name": "stdout",
          "text": [
            "ㅇㅇ님의 두피 타입은 지성 입니다. \n",
            "세부적인 두피 분석 결과, 현재 ㅇㅇ 님의 두피는 악지성, 민감성 두피, 비듬, 두피염 문제가 있습니다.\n",
            "아래 그래프를 참고 하세요. 3으로 갈 수록 상태의 심한 정도를 나타냅니다.\n"
          ]
        }
      ]
    },
    {
      "cell_type": "code",
      "source": [
        "####radar chart######\n",
        "\n",
        "plt.rc('font', family='NanumBarunGothic')\n",
        "\n",
        "labels= final_index\n",
        "markers = [0, 1, 2, 3]\n",
        "\n",
        "\n",
        "def make_radar_chart(name, stats, attribute_labels=labels,\n",
        "                     plot_markers=markers):\n",
        "\n",
        "    labels = np.array(attribute_labels)\n",
        "\n",
        "    angles = np.linspace(0, 2*np.pi, len(labels), endpoint=False)\n",
        "    stats = np.concatenate((stats,[stats[0]]))\n",
        "    angles = np.concatenate((angles,[angles[0]]))\n",
        "\n",
        "    fig = plt.figure(figsize = (10,10))\n",
        "    ax = fig.add_subplot(111, polar=True)\n",
        "    ax.plot(angles, stats, 'o-', linewidth=2)\n",
        "    ax.fill(angles, stats, alpha=0.25)\n",
        "    ax.set_thetagrids(angles * 180/np.pi, labels)\n",
        "    plt.yticks(markers)\n",
        "    ax.set_title(name)\n",
        "    ax.grid(True)\n",
        "\n",
        "    fig.savefig(\"{}_radar_chart.png\".format(name))\n",
        "    # ax.text(0, 0 + 0.05, \"양호\", size=10)\n",
        "    # ax.text(-0.4, 0.5 + PAD, \"50%\", size=16)\n",
        "\n",
        "    return plt.show()\n",
        "\n"
      ],
      "metadata": {
        "id": "rT-6EPm2MnNw"
      },
      "execution_count": null,
      "outputs": []
    },
    {
      "cell_type": "code",
      "source": [
        "make_radar_chart(date, final_list) "
      ],
      "metadata": {
        "colab": {
          "base_uri": "https://localhost:8080/",
          "height": 623
        },
        "id": "5RnWUcfUSttX",
        "outputId": "0528f8f9-2c42-41f5-8a92-4d35ed87dd54"
      },
      "execution_count": null,
      "outputs": [
        {
          "output_type": "display_data",
          "data": {
            "text/plain": [
              "<Figure size 720x720 with 1 Axes>"
            ],
            "image/png": "[encoded data removed]"
          },
          "metadata": {
            "image/png": {
              "width": 585,
              "height": 606
            },
            "needs_background": "light"
          }
        }
      ]
    },
    {
      "cell_type": "code",
      "source": [
        ""
      ],
      "metadata": {
        "id": "1umM9J3NL40B"
      },
      "execution_count": null,
      "outputs": []
    },
    {
      "cell_type": "code",
      "source": [
        "## multiple radar chart\n",
        "labels= final_index\n",
        "markers = [0, 1, 2, 3]\n",
        "\n",
        "def make_radar_multi_chart(name_list, stats_list, attribute_labels=labels,\n",
        "                     plot_markers=markers):\n",
        "    colors = [\"#FF5A5F\", \"#FFB400\", \"#007A87\"]\n",
        "    labels = np.array(attribute_labels)\n",
        "    fig = plt.figure(figsize = (14,14))\n",
        "    ax = fig.add_subplot(111, polar=True)\n",
        "    for idx, stats in enumerate(stats_list):\n",
        "      angles = np.linspace(0, 2*np.pi, len(labels), endpoint=False)\n",
        "      stats = np.concatenate((stats,[stats[0]]))\n",
        "      angles = np.concatenate((angles,[angles[0]]))\n",
        "      ax.plot(angles, stats, 'o-', linewidth=2, c = colors[idx])\n",
        "      ax.fill(angles, stats, alpha=0.25,c = colors[idx])\n",
        "    # fig = plt.figure(figsize = (14,14))\n",
        "    # ax = fig.add_subplot(111, polar=True)\n",
        "    # ax.plot(angles, stats, 'o-', linewidth=2)\n",
        "    # ax.fill(angles, stats, alpha=0.25)\n",
        "    ax.set_thetagrids(angles * 180/np.pi, labels)\n",
        "    plt.yticks(markers)\n",
        "    # ax.set_title(name)\n",
        "    ax.grid(True)\n",
        "    ax.legend(name_list)\n",
        "\n",
        "    fig.savefig(\"{}_radar_chart_multi.png\".format(name_list[-1]))\n",
        "    # ax.text(0, 0 + 0.05, \"양호\", size=10)\n",
        "    # ax.text(-0.4, 0.5 + PAD, \"50%\", size=16)\n",
        "\n",
        "    return plt.show()"
      ],
      "metadata": {
        "id": "foT14v4MpKx9"
      },
      "execution_count": null,
      "outputs": []
    },
    {
      "cell_type": "code",
      "source": [
        "# make_radar_multi_chart([22_04_09, 22_05_19], [[1,2,3,2,1],[2,2,1,3,1]])"
      ],
      "metadata": {
        "id": "E_7g4BGKr7zE"
      },
      "execution_count": null,
      "outputs": []
    },
    {
      "cell_type": "code",
      "source": [
        "print('ㅇㅇ 님의 현재 두피 상태에 맞춰 상품을 추천해 드릴께요. 리뷰수가 많은 제품 중에,평점이 좋은 제품들로 구성해 봤어요.')"
      ],
      "metadata": {
        "colab": {
          "base_uri": "https://localhost:8080/"
        },
        "id": "835kMzXTR2jp",
        "outputId": "cbb936df-5c66-48ce-e74b-5922b35f99a7"
      },
      "execution_count": null,
      "outputs": [
        {
          "output_type": "stream",
          "name": "stdout",
          "text": [
            "ㅇㅇ 님의 현재 두피 상태에 맞춰 상품을 추천해 드릴께요. 리뷰수가 많은 제품 중에,평점이 좋은 제품들로 구성해 봤어요.\n"
          ]
        }
      ]
    },
    {
      "cell_type": "code",
      "source": [
        "shampoo = pd.read_csv('/content/drive/MyDrive/Final_Project/구세은/shampoo_final.csv')"
      ],
      "metadata": {
        "id": "hXWGJBodtb8L"
      },
      "execution_count": null,
      "outputs": []
    },
    {
      "cell_type": "code",
      "source": [
        "shampoo.opinion = shampoo.opinion.str.replace(',', '').astype(int)"
      ],
      "metadata": {
        "id": "g6g4I6q63Adm"
      },
      "execution_count": null,
      "outputs": []
    },
    {
      "cell_type": "code",
      "source": [
        "from sklearn.feature_extraction.text import CountVectorizer"
      ],
      "metadata": {
        "id": "6VOSXrUISHnr"
      },
      "execution_count": null,
      "outputs": []
    },
    {
      "cell_type": "code",
      "source": [
        "# CountVectorizer로 학습시켰더니 366개 샴푸에 대한 44개 스펙의 매트릭스가 생성.\n",
        "count_vect = CountVectorizer(min_df=0, ngram_range=(1, 1)) \n",
        "#min_df: 단어장에 들어갈 최소빈도, ngram_range: 1\n",
        "specs_mat = count_vect.fit_transform(shampoo['spec_list'])\n",
        "print(specs_mat.shape)"
      ],
      "metadata": {
        "colab": {
          "base_uri": "https://localhost:8080/"
        },
        "id": "HOmbhqHFSHfV",
        "outputId": "90ba93d7-3c50-42eb-c7bd-b89a8d0d1cde"
      },
      "execution_count": null,
      "outputs": [
        {
          "output_type": "stream",
          "name": "stdout",
          "text": [
            "(366, 37)\n"
          ]
        }
      ]
    },
    {
      "cell_type": "code",
      "source": [
        "# CountVectorizer 에서 학습한 단어들\n",
        "count_vect.vocabulary_"
      ],
      "metadata": {
        "colab": {
          "base_uri": "https://localhost:8080/"
        },
        "id": "4ot4qPw2SLTM",
        "outputId": "bd7f9cc8-f104-4e70-b2c6-362f1cc36ec9"
      },
      "execution_count": null,
      "outputs": [
        {
          "output_type": "execute_result",
          "data": {
            "text/plain": [
              "{'가는': 0,\n",
              " '각질케어': 1,\n",
              " '거품': 2,\n",
              " '건성': 3,\n",
              " '계면활성제': 4,\n",
              " '두피샴푸': 5,\n",
              " '두피염': 6,\n",
              " '드라이샴푸': 7,\n",
              " '머릿결개선': 8,\n",
              " '모발보호': 9,\n",
              " '모발영양': 10,\n",
              " '모발용': 11,\n",
              " '민감성': 12,\n",
              " '볼륨효과': 13,\n",
              " '비듬': 14,\n",
              " '산성샴푸': 15,\n",
              " '상쾌함': 16,\n",
              " '샴푸바': 17,\n",
              " '세정력': 18,\n",
              " '손상': 19,\n",
              " '손상케어': 20,\n",
              " '실리콘': 21,\n",
              " '약산성': 22,\n",
              " '염색': 23,\n",
              " '웨이브': 24,\n",
              " '일반샴푸': 25,\n",
              " '중성': 26,\n",
              " '지성': 27,\n",
              " '천연샴푸': 28,\n",
              " '청량감': 29,\n",
              " '탈모샴푸': 30,\n",
              " '파라벤': 31,\n",
              " '패스트샴푸': 32,\n",
              " '퍼퓸샴푸': 33,\n",
              " '풍부한': 34,\n",
              " '프리': 35,\n",
              " '한방샴푸': 36}"
            ]
          },
          "metadata": {},
          "execution_count": 286
        }
      ]
    },
    {
      "cell_type": "code",
      "source": [
        "# 코사인 유사도에 의해 366개 샴푸 각각 유사한 상품들이 계산됨\n",
        "from sklearn.metrics.pairwise import cosine_similarity\n",
        "specs_sim = cosine_similarity(specs_mat, specs_mat)\n",
        "\n",
        "print(specs_sim.shape)\n",
        "print(specs_sim[:6])"
      ],
      "metadata": {
        "colab": {
          "base_uri": "https://localhost:8080/"
        },
        "id": "rWjrEw9uSMtX",
        "outputId": "c6066474-8d97-4e70-8370-958ed2712b08"
      },
      "execution_count": null,
      "outputs": [
        {
          "output_type": "stream",
          "name": "stdout",
          "text": [
            "(366, 366)\n",
            "[[1.         0.46056619 0.09759001 ... 0.50395263 0.21821789 0.        ]\n",
            " [0.46056619 1.         0.13483997 ... 0.63828474 0.20100756 0.40201513]\n",
            " [0.09759001 0.13483997 1.         ... 0.17213259 0.1490712  0.1490712 ]\n",
            " [0.56694671 0.34815531 0.12909944 ... 0.66666667 0.         0.28867513]\n",
            " [0.40089186 0.49236596 0.45643546 ... 0.47140452 0.20412415 0.40824829]\n",
            " [0.40089186 0.73854895 0.31950483 ... 0.41247896 0.40824829 0.20412415]]\n"
          ]
        }
      ]
    },
    {
      "cell_type": "code",
      "source": [
        "# 자료를 정렬하는 것이 아니라 순서만 알고 싶다면 argsort\n",
        "# 유사도가 높은 영화를 앞에서부터 순서대로 보여줌\n",
        "# 0번째 영화의 경우 유사도 순서 : 0번, 3494번, 813번, ..., 2401 순서\n",
        "specs_sim_sorted_ind = specs_sim.argsort()[:, ::-1] # 전체를 -1칸 간격으로\n",
        "print(specs_sim_sorted_ind[:5])"
      ],
      "metadata": {
        "colab": {
          "base_uri": "https://localhost:8080/"
        },
        "id": "acHtTa4GSOa7",
        "outputId": "f4f29989-f88c-4996-b0af-02a8c81838e3"
      },
      "execution_count": null,
      "outputs": [
        {
          "output_type": "stream",
          "name": "stdout",
          "text": [
            "[[  0  69  39 ... 187 194 365]\n",
            " [  1 139 275 ... 289 147 290]\n",
            " [  2 274 154 ... 294 124 239]\n",
            " [  3 341 356 ... 289 226 287]\n",
            " [  4  85 121 ...  60 313 268]]\n"
          ]
        }
      ]
    },
    {
      "cell_type": "code",
      "source": [
        "final_keyword3"
      ],
      "metadata": {
        "colab": {
          "base_uri": "https://localhost:8080/"
        },
        "id": "2kyjv01XSyQD",
        "outputId": "c2484749-2525-4da8-c2b7-ad4af72a6411"
      },
      "execution_count": null,
      "outputs": [
        {
          "output_type": "execute_result",
          "data": {
            "text/plain": [
              "['지성', '민감성', '비듬', '두피염']"
            ]
          },
          "metadata": {},
          "execution_count": 289
        }
      ]
    },
    {
      "cell_type": "code",
      "source": [
        "# # 두피 유형(Type) 입력시 : 리뷰수, 평점 4.6이상, 상위 10개 항목 출력\n",
        "# def recommend(Type) :\n",
        "#     result = shampoo[shampoo['spec_list'].str.contains(Type)]\n",
        "#     result = result[result['rate'] > 4.6]\n",
        "#     result.sort_values('opinion', ascending = False, inplace = True, ignore_index = True)\n",
        "#     return result[:10]"
      ],
      "metadata": {
        "id": "piLs0up6SPqh"
      },
      "execution_count": null,
      "outputs": []
    },
    {
      "cell_type": "code",
      "source": [
        "# 두피 유형(Type) 입력시 : 리뷰수, 평점 4.6이상, 상위 10개 항목 출력\n",
        "def recommend(final_keyword) :\n",
        "\n",
        "    result = shampoo[shampoo['spec_list'].apply(lambda words: all(word in words for word in final_keyword))]\n",
        "    result = result[result['rate'] > 4.6]\n",
        "    result.sort_values(['rate','opinion'], ascending = False, ignore_index = True, inplace = True)\n",
        "    # result = result.sort_values(by = 'price', ascending = False, ignore_index = True)\n",
        "    return result[:10]"
      ],
      "metadata": {
        "id": "z8YPzw5eWUT5"
      },
      "execution_count": null,
      "outputs": []
    },
    {
      "cell_type": "code",
      "source": [
        "# # 두피 유형(Type) 입력시 : 리뷰수, 평점 4.6이상, 상위 10개 항목 출력\n",
        "# def recommend(final_keyword) :\n",
        "\n",
        "#     result = shampoo[shampoo['spec_list'].apply(lambda words: any(word in words for word in final_keyword))]\n",
        "#     result = result[result['rate'] > 4.6]\n",
        "#     result.sort_values('opinion', ascending = False, inplace = True, ignore_index = True)\n",
        "#     return result[:10]"
      ],
      "metadata": {
        "id": "fHiaKyBHYoTk"
      },
      "execution_count": null,
      "outputs": []
    },
    {
      "cell_type": "code",
      "source": [
        "recommend(final_keyword3)"
      ],
      "metadata": {
        "colab": {
          "base_uri": "https://localhost:8080/",
          "height": 331
        },
        "id": "iXUFHR1LSSj9",
        "outputId": "42998b69-bfa9-4c4b-8c10-ac81c68784f2"
      },
      "execution_count": null,
      "outputs": [
        {
          "output_type": "execute_result",
          "data": {
            "text/plain": [
              "   Unnamed: 0                         title  \\\n",
              "0         145         솔랩 퓨어 테라피 지성 샴푸 300ml   \n",
              "1          12          닥터모두 좋은 스칼프 샴푸 500ml   \n",
              "2          27       닥터포헤어 피토 테라피 두피샴푸 500ml   \n",
              "3           1  제이숲 딥그린제이 아로마 샴푸 일랑일랑 1000ml   \n",
              "4         345      닥터포헤어 세범 컨트롤 지성 샴푸 500ml   \n",
              "5         200           박준 애씨드 산성 샴푸 1500ml   \n",
              "6         346          바론 모링가 리프레쉬 샴푸 1000g   \n",
              "7         129      앙방 약산성 퍼퓸 샴푸 체리블라썸 550ml   \n",
              "8          40    비바스 오리진 아이슬란드 쿨링 샴푸 1000ml   \n",
              "\n",
              "                                           spec_list    price  rate  opinion  \n",
              "0  지성', '민감성', '두피염/두피염', '중성', '일반샴푸', '천연샴푸', '...  25,000원   5.0      510  \n",
              "1  지성', '건성', '민감성', '두피염/두피염', '중성', '일반샴푸', '탈모...  24,000원   4.9     3811  \n",
              "2  지성', '건성', '민감성', '두피염/두피염', '중성', '일반샴푸', '천연...  13,450원   4.7     6852  \n",
              "3  지성', '건성', '민감성', '중성', '일반샴푸', '패스트샴푸', '천연샴푸...  14,900원   4.7     3307  \n",
              "4  지성', '건성', '민감성', '중성', '일반샴푸', '비듬', '산성샴푸', ...  19,800원   4.7     1876  \n",
              "5  지성', '건성', '민감성', '두피염/두피염', '가는 모발용', '염색 모발용...  16,900원   4.7     1401  \n",
              "6  지성', '중성', '일반샴푸', '비듬', '두피샴푸', '머릿결개선', '세정력...  13,190원   4.7     1145  \n",
              "7  지성', '건성', '민감성', '중성', '일반샴푸', '탈모샴푸', '천연샴푸'...  19,900원   4.7      609  \n",
              "8  중성', '일반샴푸', '비듬', '두피샴푸', '머릿결개선', '세정력', '풍부...   9,860원   4.7      556  "
            ],
            "text/html": [
              "\n",
              "  <div id=\"df-8112ae97-0bc6-41d8-b7f5-fbd6fada3977\">\n",
              "    <div class=\"colab-df-container\">\n",
              "      <div>\n",
              "<style scoped>\n",
              "    .dataframe tbody tr th:only-of-type {\n",
              "        vertical-align: middle;\n",
              "    }\n",
              "\n",
              "    .dataframe tbody tr th {\n",
              "        vertical-align: top;\n",
              "    }\n",
              "\n",
              "    .dataframe thead th {\n",
              "        text-align: right;\n",
              "    }\n",
              "</style>\n",
              "<table border=\"1\" class=\"dataframe\">\n",
              "  <thead>\n",
              "    <tr style=\"text-align: right;\">\n",
              "      <th></th>\n",
              "      <th>Unnamed: 0</th>\n",
              "      <th>title</th>\n",
              "      <th>spec_list</th>\n",
              "      <th>price</th>\n",
              "      <th>rate</th>\n",
              "      <th>opinion</th>\n",
              "    </tr>\n",
              "  </thead>\n",
              "  <tbody>\n",
              "    <tr>\n",
              "      <th>0</th>\n",
              "      <td>145</td>\n",
              "      <td>솔랩 퓨어 테라피 지성 샴푸 300ml</td>\n",
              "      <td>지성', '민감성', '두피염/두피염', '중성', '일반샴푸', '천연샴푸', '...</td>\n",
              "      <td>25,000원</td>\n",
              "      <td>5.0</td>\n",
              "      <td>510</td>\n",
              "    </tr>\n",
              "    <tr>\n",
              "      <th>1</th>\n",
              "      <td>12</td>\n",
              "      <td>닥터모두 좋은 스칼프 샴푸 500ml</td>\n",
              "      <td>지성', '건성', '민감성', '두피염/두피염', '중성', '일반샴푸', '탈모...</td>\n",
              "      <td>24,000원</td>\n",
              "      <td>4.9</td>\n",
              "      <td>3811</td>\n",
              "    </tr>\n",
              "    <tr>\n",
              "      <th>2</th>\n",
              "      <td>27</td>\n",
              "      <td>닥터포헤어 피토 테라피 두피샴푸 500ml</td>\n",
              "      <td>지성', '건성', '민감성', '두피염/두피염', '중성', '일반샴푸', '천연...</td>\n",
              "      <td>13,450원</td>\n",
              "      <td>4.7</td>\n",
              "      <td>6852</td>\n",
              "    </tr>\n",
              "    <tr>\n",
              "      <th>3</th>\n",
              "      <td>1</td>\n",
              "      <td>제이숲 딥그린제이 아로마 샴푸 일랑일랑 1000ml</td>\n",
              "      <td>지성', '건성', '민감성', '중성', '일반샴푸', '패스트샴푸', '천연샴푸...</td>\n",
              "      <td>14,900원</td>\n",
              "      <td>4.7</td>\n",
              "      <td>3307</td>\n",
              "    </tr>\n",
              "    <tr>\n",
              "      <th>4</th>\n",
              "      <td>345</td>\n",
              "      <td>닥터포헤어 세범 컨트롤 지성 샴푸 500ml</td>\n",
              "      <td>지성', '건성', '민감성', '중성', '일반샴푸', '비듬', '산성샴푸', ...</td>\n",
              "      <td>19,800원</td>\n",
              "      <td>4.7</td>\n",
              "      <td>1876</td>\n",
              "    </tr>\n",
              "    <tr>\n",
              "      <th>5</th>\n",
              "      <td>200</td>\n",
              "      <td>박준 애씨드 산성 샴푸 1500ml</td>\n",
              "      <td>지성', '건성', '민감성', '두피염/두피염', '가는 모발용', '염색 모발용...</td>\n",
              "      <td>16,900원</td>\n",
              "      <td>4.7</td>\n",
              "      <td>1401</td>\n",
              "    </tr>\n",
              "    <tr>\n",
              "      <th>6</th>\n",
              "      <td>346</td>\n",
              "      <td>바론 모링가 리프레쉬 샴푸 1000g</td>\n",
              "      <td>지성', '중성', '일반샴푸', '비듬', '두피샴푸', '머릿결개선', '세정력...</td>\n",
              "      <td>13,190원</td>\n",
              "      <td>4.7</td>\n",
              "      <td>1145</td>\n",
              "    </tr>\n",
              "    <tr>\n",
              "      <th>7</th>\n",
              "      <td>129</td>\n",
              "      <td>앙방 약산성 퍼퓸 샴푸 체리블라썸 550ml</td>\n",
              "      <td>지성', '건성', '민감성', '중성', '일반샴푸', '탈모샴푸', '천연샴푸'...</td>\n",
              "      <td>19,900원</td>\n",
              "      <td>4.7</td>\n",
              "      <td>609</td>\n",
              "    </tr>\n",
              "    <tr>\n",
              "      <th>8</th>\n",
              "      <td>40</td>\n",
              "      <td>비바스 오리진 아이슬란드 쿨링 샴푸 1000ml</td>\n",
              "      <td>중성', '일반샴푸', '비듬', '두피샴푸', '머릿결개선', '세정력', '풍부...</td>\n",
              "      <td>9,860원</td>\n",
              "      <td>4.7</td>\n",
              "      <td>556</td>\n",
              "    </tr>\n",
              "  </tbody>\n",
              "</table>\n",
              "</div>\n",
              "      <button class=\"colab-df-convert\" onclick=\"convertToInteractive('df-8112ae97-0bc6-41d8-b7f5-fbd6fada3977')\"\n",
              "              title=\"Convert this dataframe to an interactive table.\"\n",
              "              style=\"display:none;\">\n",
              "        \n",
              "  <svg xmlns=\"http://www.w3.org/2000/svg\" height=\"24px\"viewBox=\"0 0 24 24\"\n",
              "       width=\"24px\">\n",
              "    <path d=\"M0 0h24v24H0V0z\" fill=\"none\"/>\n",
              "    <path d=\"M18.56 5.44l.94 2.06.94-2.06 2.06-.94-2.06-.94-.94-2.06-.94 2.06-2.06.94zm-11 1L8.5 8.5l.94-2.06 2.06-.94-2.06-.94L8.5 2.5l-.94 2.06-2.06.94zm10 10l.94 2.06.94-2.06 2.06-.94-2.06-.94-.94-2.06-.94 2.06-2.06.94z\"/><path d=\"M17.41 7.96l-1.37-1.37c-.4-.4-.92-.59-1.43-.59-.52 0-1.04.2-1.43.59L10.3 9.45l-7.72 7.72c-.78.78-.78 2.05 0 2.83L4 21.41c.39.39.9.59 1.41.59.51 0 1.02-.2 1.41-.59l7.78-7.78 2.81-2.81c.8-.78.8-2.07 0-2.86zM5.41 20L4 18.59l7.72-7.72 1.47 1.35L5.41 20z\"/>\n",
              "  </svg>\n",
              "      </button>\n",
              "      \n",
              "  <style>\n",
              "    .colab-df-container {\n",
              "      display:flex;\n",
              "      flex-wrap:wrap;\n",
              "      gap: 12px;\n",
              "    }\n",
              "\n",
              "    .colab-df-convert {\n",
              "      background-color: #E8F0FE;\n",
              "      border: none;\n",
              "      border-radius: 50%;\n",
              "      cursor: pointer;\n",
              "      display: none;\n",
              "      fill: #1967D2;\n",
              "      height: 32px;\n",
              "      padding: 0 0 0 0;\n",
              "      width: 32px;\n",
              "    }\n",
              "\n",
              "    .colab-df-convert:hover {\n",
              "      background-color: #E2EBFA;\n",
              "      box-shadow: 0px 1px 2px rgba(60, 64, 67, 0.3), 0px 1px 3px 1px rgba(60, 64, 67, 0.15);\n",
              "      fill: #174EA6;\n",
              "    }\n",
              "\n",
              "    [theme=dark] .colab-df-convert {\n",
              "      background-color: #3B4455;\n",
              "      fill: #D2E3FC;\n",
              "    }\n",
              "\n",
              "    [theme=dark] .colab-df-convert:hover {\n",
              "      background-color: #434B5C;\n",
              "      box-shadow: 0px 1px 3px 1px rgba(0, 0, 0, 0.15);\n",
              "      filter: drop-shadow(0px 1px 2px rgba(0, 0, 0, 0.3));\n",
              "      fill: #FFFFFF;\n",
              "    }\n",
              "  </style>\n",
              "\n",
              "      <script>\n",
              "        const buttonEl =\n",
              "          document.querySelector('#df-8112ae97-0bc6-41d8-b7f5-fbd6fada3977 button.colab-df-convert');\n",
              "        buttonEl.style.display =\n",
              "          google.colab.kernel.accessAllowed ? 'block' : 'none';\n",
              "\n",
              "        async function convertToInteractive(key) {\n",
              "          const element = document.querySelector('#df-8112ae97-0bc6-41d8-b7f5-fbd6fada3977');\n",
              "          const dataTable =\n",
              "            await google.colab.kernel.invokeFunction('convertToInteractive',\n",
              "                                                     [key], {});\n",
              "          if (!dataTable) return;\n",
              "\n",
              "          const docLinkHtml = 'Like what you see? Visit the ' +\n",
              "            '<a target=\"_blank\" href=https://colab.research.google.com/notebooks/data_table.ipynb>data table notebook</a>'\n",
              "            + ' to learn more about interactive tables.';\n",
              "          element.innerHTML = '';\n",
              "          dataTable['output_type'] = 'display_data';\n",
              "          await google.colab.output.renderOutput(dataTable, element);\n",
              "          const docLink = document.createElement('div');\n",
              "          docLink.innerHTML = docLinkHtml;\n",
              "          element.appendChild(docLink);\n",
              "        }\n",
              "      </script>\n",
              "    </div>\n",
              "  </div>\n",
              "  "
            ]
          },
          "metadata": {},
          "execution_count": 300
        }
      ]
    },
    {
      "cell_type": "code",
      "source": [
        "recommend(['민감성'])"
      ],
      "metadata": {
        "colab": {
          "base_uri": "https://localhost:8080/",
          "height": 363
        },
        "id": "otMGpWjLYugX",
        "outputId": "e25e038b-fc57-41f8-fada-d422c024278e"
      },
      "execution_count": null,
      "outputs": [
        {
          "output_type": "execute_result",
          "data": {
            "text/plain": [
              "   Unnamed: 0                                title  \\\n",
              "0         354                       발머스 M 샴푸 300ml   \n",
              "1         343  쿤달 허니 앤 마카다미아 네이처 샴푸 화이트 머스크 1058ml   \n",
              "2         165                  마녀공장 허브그린 샴푸 1000ml   \n",
              "3           8                 더나플러스 그린테라피 샴푸 500ml   \n",
              "4         281           케라시스 러블리 앤 로맨틱 퍼퓸 샴푸 980ml   \n",
              "5         263               케라시스 두피 프레쉬 쿨 샴푸 750ml   \n",
              "6         342                    무백 자몽 워터 샴푸 500ml   \n",
              "7         161         케라시스 프로폴리스 에너지 플러스 샴푸 1000ml   \n",
              "8          33                 커리쉴 모이스처 카밍 샴푸 330ml   \n",
              "9          93            케라시스 샤이닝 데미지 케어 샴푸 4000ml   \n",
              "\n",
              "                                           spec_list    price  rate opinion  \n",
              "0                             중성', '민감성', '건성(수분공급)'  28,000원   4.8     967  \n",
              "1  중성', '일반샴푸', '머릿결개선', '세정력', '풍부한 거품', '향', '민...  15,900원   4.8     933  \n",
              "2  중성', '일반샴푸', '세정력', '풍부한 거품', '향', '상쾌함', '민감성...  16,400원   4.7     930  \n",
              "3  중성', '탈모샴푸', '머릿결개선', '세정력', '민감성', '두피염', '계면...  37,110원   4.9     922  \n",
              "4  중성', '일반샴푸', '머릿결개선', '세정력', '풍부한 거품', '향', '민...   4,900원   4.7      89  \n",
              "5  지성', '건성', '민감성', '가는 모발용', '염색 모발용', '웨이브 모발용...   2,880원   4.7     861  \n",
              "6  중성', '일반샴푸', '머릿결개선', '세정력', '풍부한 거품', '향', '민...  16,200원   4.8     859  \n",
              "7  지성', '건성', '민감성', '가는 모발용', '염색 모발용', '웨이브 모발용...   4,890원   4.7     842  \n",
              "8  중성', '일반샴푸', '머릿결개선', '세정력', '풍부한 거품', '향', '상...  17,560원   4.9     831  \n",
              "9  지성', '건성', '민감성', '가는 모발용', '염색 모발용', '웨이브 모발용...   9,960원   4.7   8,003  "
            ],
            "text/html": [
              "\n",
              "  <div id=\"df-5fccc1d6-67e8-422e-9763-042e11e1c9d0\">\n",
              "    <div class=\"colab-df-container\">\n",
              "      <div>\n",
              "<style scoped>\n",
              "    .dataframe tbody tr th:only-of-type {\n",
              "        vertical-align: middle;\n",
              "    }\n",
              "\n",
              "    .dataframe tbody tr th {\n",
              "        vertical-align: top;\n",
              "    }\n",
              "\n",
              "    .dataframe thead th {\n",
              "        text-align: right;\n",
              "    }\n",
              "</style>\n",
              "<table border=\"1\" class=\"dataframe\">\n",
              "  <thead>\n",
              "    <tr style=\"text-align: right;\">\n",
              "      <th></th>\n",
              "      <th>Unnamed: 0</th>\n",
              "      <th>title</th>\n",
              "      <th>spec_list</th>\n",
              "      <th>price</th>\n",
              "      <th>rate</th>\n",
              "      <th>opinion</th>\n",
              "    </tr>\n",
              "  </thead>\n",
              "  <tbody>\n",
              "    <tr>\n",
              "      <th>0</th>\n",
              "      <td>354</td>\n",
              "      <td>발머스 M 샴푸 300ml</td>\n",
              "      <td>중성', '민감성', '건성(수분공급)'</td>\n",
              "      <td>28,000원</td>\n",
              "      <td>4.8</td>\n",
              "      <td>967</td>\n",
              "    </tr>\n",
              "    <tr>\n",
              "      <th>1</th>\n",
              "      <td>343</td>\n",
              "      <td>쿤달 허니 앤 마카다미아 네이처 샴푸 화이트 머스크 1058ml</td>\n",
              "      <td>중성', '일반샴푸', '머릿결개선', '세정력', '풍부한 거품', '향', '민...</td>\n",
              "      <td>15,900원</td>\n",
              "      <td>4.8</td>\n",
              "      <td>933</td>\n",
              "    </tr>\n",
              "    <tr>\n",
              "      <th>2</th>\n",
              "      <td>165</td>\n",
              "      <td>마녀공장 허브그린 샴푸 1000ml</td>\n",
              "      <td>중성', '일반샴푸', '세정력', '풍부한 거품', '향', '상쾌함', '민감성...</td>\n",
              "      <td>16,400원</td>\n",
              "      <td>4.7</td>\n",
              "      <td>930</td>\n",
              "    </tr>\n",
              "    <tr>\n",
              "      <th>3</th>\n",
              "      <td>8</td>\n",
              "      <td>더나플러스 그린테라피 샴푸 500ml</td>\n",
              "      <td>중성', '탈모샴푸', '머릿결개선', '세정력', '민감성', '두피염', '계면...</td>\n",
              "      <td>37,110원</td>\n",
              "      <td>4.9</td>\n",
              "      <td>922</td>\n",
              "    </tr>\n",
              "    <tr>\n",
              "      <th>4</th>\n",
              "      <td>281</td>\n",
              "      <td>케라시스 러블리 앤 로맨틱 퍼퓸 샴푸 980ml</td>\n",
              "      <td>중성', '일반샴푸', '머릿결개선', '세정력', '풍부한 거품', '향', '민...</td>\n",
              "      <td>4,900원</td>\n",
              "      <td>4.7</td>\n",
              "      <td>89</td>\n",
              "    </tr>\n",
              "    <tr>\n",
              "      <th>5</th>\n",
              "      <td>263</td>\n",
              "      <td>케라시스 두피 프레쉬 쿨 샴푸 750ml</td>\n",
              "      <td>지성', '건성', '민감성', '가는 모발용', '염색 모발용', '웨이브 모발용...</td>\n",
              "      <td>2,880원</td>\n",
              "      <td>4.7</td>\n",
              "      <td>861</td>\n",
              "    </tr>\n",
              "    <tr>\n",
              "      <th>6</th>\n",
              "      <td>342</td>\n",
              "      <td>무백 자몽 워터 샴푸 500ml</td>\n",
              "      <td>중성', '일반샴푸', '머릿결개선', '세정력', '풍부한 거품', '향', '민...</td>\n",
              "      <td>16,200원</td>\n",
              "      <td>4.8</td>\n",
              "      <td>859</td>\n",
              "    </tr>\n",
              "    <tr>\n",
              "      <th>7</th>\n",
              "      <td>161</td>\n",
              "      <td>케라시스 프로폴리스 에너지 플러스 샴푸 1000ml</td>\n",
              "      <td>지성', '건성', '민감성', '가는 모발용', '염색 모발용', '웨이브 모발용...</td>\n",
              "      <td>4,890원</td>\n",
              "      <td>4.7</td>\n",
              "      <td>842</td>\n",
              "    </tr>\n",
              "    <tr>\n",
              "      <th>8</th>\n",
              "      <td>33</td>\n",
              "      <td>커리쉴 모이스처 카밍 샴푸 330ml</td>\n",
              "      <td>중성', '일반샴푸', '머릿결개선', '세정력', '풍부한 거품', '향', '상...</td>\n",
              "      <td>17,560원</td>\n",
              "      <td>4.9</td>\n",
              "      <td>831</td>\n",
              "    </tr>\n",
              "    <tr>\n",
              "      <th>9</th>\n",
              "      <td>93</td>\n",
              "      <td>케라시스 샤이닝 데미지 케어 샴푸 4000ml</td>\n",
              "      <td>지성', '건성', '민감성', '가는 모발용', '염색 모발용', '웨이브 모발용...</td>\n",
              "      <td>9,960원</td>\n",
              "      <td>4.7</td>\n",
              "      <td>8,003</td>\n",
              "    </tr>\n",
              "  </tbody>\n",
              "</table>\n",
              "</div>\n",
              "      <button class=\"colab-df-convert\" onclick=\"convertToInteractive('df-5fccc1d6-67e8-422e-9763-042e11e1c9d0')\"\n",
              "              title=\"Convert this dataframe to an interactive table.\"\n",
              "              style=\"display:none;\">\n",
              "        \n",
              "  <svg xmlns=\"http://www.w3.org/2000/svg\" height=\"24px\"viewBox=\"0 0 24 24\"\n",
              "       width=\"24px\">\n",
              "    <path d=\"M0 0h24v24H0V0z\" fill=\"none\"/>\n",
              "    <path d=\"M18.56 5.44l.94 2.06.94-2.06 2.06-.94-2.06-.94-.94-2.06-.94 2.06-2.06.94zm-11 1L8.5 8.5l.94-2.06 2.06-.94-2.06-.94L8.5 2.5l-.94 2.06-2.06.94zm10 10l.94 2.06.94-2.06 2.06-.94-2.06-.94-.94-2.06-.94 2.06-2.06.94z\"/><path d=\"M17.41 7.96l-1.37-1.37c-.4-.4-.92-.59-1.43-.59-.52 0-1.04.2-1.43.59L10.3 9.45l-7.72 7.72c-.78.78-.78 2.05 0 2.83L4 21.41c.39.39.9.59 1.41.59.51 0 1.02-.2 1.41-.59l7.78-7.78 2.81-2.81c.8-.78.8-2.07 0-2.86zM5.41 20L4 18.59l7.72-7.72 1.47 1.35L5.41 20z\"/>\n",
              "  </svg>\n",
              "      </button>\n",
              "      \n",
              "  <style>\n",
              "    .colab-df-container {\n",
              "      display:flex;\n",
              "      flex-wrap:wrap;\n",
              "      gap: 12px;\n",
              "    }\n",
              "\n",
              "    .colab-df-convert {\n",
              "      background-color: #E8F0FE;\n",
              "      border: none;\n",
              "      border-radius: 50%;\n",
              "      cursor: pointer;\n",
              "      display: none;\n",
              "      fill: #1967D2;\n",
              "      height: 32px;\n",
              "      padding: 0 0 0 0;\n",
              "      width: 32px;\n",
              "    }\n",
              "\n",
              "    .colab-df-convert:hover {\n",
              "      background-color: #E2EBFA;\n",
              "      box-shadow: 0px 1px 2px rgba(60, 64, 67, 0.3), 0px 1px 3px 1px rgba(60, 64, 67, 0.15);\n",
              "      fill: #174EA6;\n",
              "    }\n",
              "\n",
              "    [theme=dark] .colab-df-convert {\n",
              "      background-color: #3B4455;\n",
              "      fill: #D2E3FC;\n",
              "    }\n",
              "\n",
              "    [theme=dark] .colab-df-convert:hover {\n",
              "      background-color: #434B5C;\n",
              "      box-shadow: 0px 1px 3px 1px rgba(0, 0, 0, 0.15);\n",
              "      filter: drop-shadow(0px 1px 2px rgba(0, 0, 0, 0.3));\n",
              "      fill: #FFFFFF;\n",
              "    }\n",
              "  </style>\n",
              "\n",
              "      <script>\n",
              "        const buttonEl =\n",
              "          document.querySelector('#df-5fccc1d6-67e8-422e-9763-042e11e1c9d0 button.colab-df-convert');\n",
              "        buttonEl.style.display =\n",
              "          google.colab.kernel.accessAllowed ? 'block' : 'none';\n",
              "\n",
              "        async function convertToInteractive(key) {\n",
              "          const element = document.querySelector('#df-5fccc1d6-67e8-422e-9763-042e11e1c9d0');\n",
              "          const dataTable =\n",
              "            await google.colab.kernel.invokeFunction('convertToInteractive',\n",
              "                                                     [key], {});\n",
              "          if (!dataTable) return;\n",
              "\n",
              "          const docLinkHtml = 'Like what you see? Visit the ' +\n",
              "            '<a target=\"_blank\" href=https://colab.research.google.com/notebooks/data_table.ipynb>data table notebook</a>'\n",
              "            + ' to learn more about interactive tables.';\n",
              "          element.innerHTML = '';\n",
              "          dataTable['output_type'] = 'display_data';\n",
              "          await google.colab.output.renderOutput(dataTable, element);\n",
              "          const docLink = document.createElement('div');\n",
              "          docLink.innerHTML = docLinkHtml;\n",
              "          element.appendChild(docLink);\n",
              "        }\n",
              "      </script>\n",
              "    </div>\n",
              "  </div>\n",
              "  "
            ]
          },
          "metadata": {},
          "execution_count": 262
        }
      ]
    }
  ]
}